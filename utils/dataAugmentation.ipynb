{
 "cells": [
  {
   "cell_type": "code",
   "execution_count": 124,
   "metadata": {},
   "outputs": [],
   "source": [
    "import numpy as np\n",
    "import librosa\n",
    "import librosa.display\n",
    "import soundfile as sf\n",
    "import os"
   ]
  },
  {
   "cell_type": "code",
   "execution_count": null,
   "metadata": {},
   "outputs": [],
   "source": []
  },
  {
   "cell_type": "code",
   "execution_count": 125,
   "metadata": {},
   "outputs": [],
   "source": [
    "def augment_audio(audio_file, output_folder, noise_factor=0.005, scaling_factors=[0.2,0.5,0.7,0.9, 1.2,1.5,1.7,1.9]):\n",
    "    \"\"\"\n",
    "    Applies data augmentation to an audio file and saves the augmented versions.\n",
    "\n",
    "    Parameters:\n",
    "    - audio_file: Path to the input audio file.\n",
    "    - output_folder: Folder to save augmented audio files.\n",
    "    - noise_factor: The scale of random noise to add to the audio.\n",
    "    - scaling_factors: List of factors by which to scale the amplitude.\n",
    "    \n",
    "    Returns:\n",
    "    - List of paths to the augmented audio files.\n",
    "    \"\"\"\n",
    "    # Load the audio file\n",
    "    y, sr = librosa.load(audio_file, sr=None)\n",
    "    \n",
    "    # List to store augmented audio file paths\n",
    "    augmented_files = []\n",
    "\n",
    "    # List of noise\n",
    "    noise_signals =[]\n",
    "\n",
    "    # list of scaled signal\n",
    "    scaled_signals=[]\n",
    "\n",
    "    \n",
    "    # Ensure the output folder exists\n",
    "    os.makedirs(output_folder, exist_ok=True)\n",
    "\n",
    "    # Add noise\n",
    "    for i in range(1000):\n",
    "        noise = np.random.normal(0, noise_factor, y.shape)\n",
    "        noise_signals.append(noise)\n",
    "        y_noise = y + noise\n",
    "        noise_path = os.path.join(output_folder, f\"{os.path.basename(audio_file).split('.')[0]}_noise_{i}.wav\")\n",
    "        sf.write(noise_path, y_noise, sr)\n",
    "        augmented_files.append(noise_path)\n",
    "        i=i+1\n",
    "\n",
    "    # Scale amplitude\n",
    "    for scale in scaling_factors:\n",
    "        y_scaled = y * scale\n",
    "        scaled_path = os.path.join(output_folder, f\"{os.path.basename(audio_file).split('.')[0]}_scaled_{scale}.wav\")\n",
    "        sf.write(scaled_path, y_scaled, sr)\n",
    "        scaled_signals.append(y_scaled)\n",
    "        augmented_files.append(scaled_path)\n",
    "\n",
    "    for i,scaled_signal in enumerate(scaled_signals):\n",
    "        for j, noise_signal in enumerate(noise_signals):\n",
    "            newData = scaled_signal + noise_signal\n",
    "            combo_path = os.path.join(output_folder, f\"{os.path.basename(audio_file).split('.')[0]}_combo_{i}_{j}.wav\")\n",
    "            sf.write(combo_path, newData, sr)\n",
    "            augmented_files.append(combo_path)\n",
    "\n",
    "\n",
    "    \n",
    "    return augmented_files\n"
   ]
  },
  {
   "cell_type": "code",
   "execution_count": 126,
   "metadata": {},
   "outputs": [],
   "source": [
    "filtered_claps =['../data/filtered_claps/clap_1.wav', '../data/filtered_claps/clap_2.wav', '../data/filtered_claps/clap_3.wav', '../data/filtered_claps/clap_4.wav', '../data/filtered_claps/clap_5.wav', '../data/filtered_claps/clap_6.wav']\n",
    "\n",
    "for clap in filtered_claps:\n",
    "    augmented_files = augment_audio(clap, '../data/augmentedClaps', noise_factor=0.01)"
   ]
  },
  {
   "cell_type": "code",
   "execution_count": 127,
   "metadata": {},
   "outputs": [],
   "source": [
    "filtered_echoes =['../data/filtered_echoes/echo_1.wav', '../data/filtered_echoes/echo_2.wav', '../data/filtered_echoes/echo_3.wav', '../data/filtered_echoes/echo_4.wav', '../data/filtered_echoes/echo_5.wav', '../data/filtered_echoes/echo_6.wav']\n",
    "\n",
    "for echo in filtered_echoes:\n",
    "    augmented_files = augment_audio(echo, '../data/augmentedEchoes', noise_factor=0.01)"
   ]
  }
 ],
 "metadata": {
  "kernelspec": {
   "display_name": "base",
   "language": "python",
   "name": "python3"
  },
  "language_info": {
   "codemirror_mode": {
    "name": "ipython",
    "version": 3
   },
   "file_extension": ".py",
   "mimetype": "text/x-python",
   "name": "python",
   "nbconvert_exporter": "python",
   "pygments_lexer": "ipython3",
   "version": "3.12.7"
  }
 },
 "nbformat": 4,
 "nbformat_minor": 2
}
