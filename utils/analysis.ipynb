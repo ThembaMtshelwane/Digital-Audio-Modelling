{
 "cells": [
  {
   "cell_type": "code",
   "execution_count": 223,
   "metadata": {},
   "outputs": [],
   "source": [
    "import librosa\n",
    "import numpy as np\n",
    "import matplotlib.pyplot as plt\n",
    "from sklearn.manifold import TSNE\n",
    "from sklearn.preprocessing import StandardScaler\n",
    "import librosa.display\n",
    "from mpl_toolkits.mplot3d import Axes3D\n",
    "import plotly.express as px\n",
    "import plotly.graph_objects as go\n",
    "import os\n",
    "from sklearn.ensemble import IsolationForest\n",
    "import shutil\n"
   ]
  },
  {
   "cell_type": "code",
   "execution_count": 202,
   "metadata": {},
   "outputs": [],
   "source": [
    "CLAP_DURATION = 0.055\n",
    "ECHO_DURATION = 0.15"
   ]
  },
  {
   "cell_type": "code",
   "execution_count": 203,
   "metadata": {},
   "outputs": [],
   "source": [
    "def load_and_truncate_audio(audio_file, target_duration=3.0, sr=44100):\n",
    "    \"\"\"\n",
    "    Load an audio file and truncate it to a specific duration (in seconds).\n",
    "    \n",
    "    Parameters:\n",
    "    - audio_file: Path to the audio file.\n",
    "    - target_duration: Duration to which the audio should be truncated (in seconds).\n",
    "    - sr: Sampling rate to use for loading the audio.\n",
    "    \n",
    "    Returns:\n",
    "    - y: The truncated audio signal.\n",
    "    - sr: The sampling rate.\n",
    "    \"\"\"\n",
    "    y, sr = librosa.load(audio_file, sr=sr)\n",
    "    target_samples = int(target_duration * sr)\n",
    "    \n",
    "    if len(y) > target_samples:\n",
    "        y = y[:target_samples]  # Truncate to target length\n",
    "    else:\n",
    "        # Optionally, pad the audio if it's too short\n",
    "        y = np.pad(y, (0, target_samples - len(y)), 'constant', constant_values=0)\n",
    "    \n",
    "    return y, sr"
   ]
  },
  {
   "cell_type": "code",
   "execution_count": 204,
   "metadata": {},
   "outputs": [],
   "source": [
    "def extract_audio_features(audio_file, target_duration=3.0):\n",
    "    \"\"\"\n",
    "    Extract audio features from a file after truncating the audio to the target duration.\n",
    "    \n",
    "    Parameters:\n",
    "    - audio_file: Path to the audio file.\n",
    "    - target_duration: Duration to which the audio should be truncated (in seconds).\n",
    "    \n",
    "    Returns:\n",
    "    - features: A flattened array of features extracted from the audio.\n",
    "    \"\"\"\n",
    "    y, sr = load_and_truncate_audio(audio_file, target_duration)\n",
    "\n",
    "    # Spectral Centroid\n",
    "    spectral_centroid = librosa.feature.spectral_centroid(y=y, sr=sr)\n",
    "    \n",
    "    # Spectral Bandwidth\n",
    "    spectral_bandwidth = librosa.feature.spectral_bandwidth(y=y, sr=sr)\n",
    "    \n",
    "    # Spectral Rolloff\n",
    "    spectral_rolloff = librosa.feature.spectral_rolloff(y=y, sr=sr)\n",
    "    \n",
    "    # MFCC (Mel-frequency cepstral coefficients)\n",
    "    mfccs = librosa.feature.mfcc(y=y, sr=sr)\n",
    "    \n",
    "    # Chroma (chroma features)\n",
    "    chroma = librosa.feature.chroma_stft(y=y, sr=sr)\n",
    "    \n",
    "    # Root Mean Square Energy\n",
    "    rms = np.mean(librosa.feature.rms(y=y), axis=1)\n",
    "    \n",
    "    # Flatten all features to 1D arrays\n",
    "    features = np.concatenate([\n",
    "        spectral_centroid.flatten(), \n",
    "        spectral_bandwidth.flatten(), \n",
    "        spectral_rolloff.flatten(), \n",
    "        mfccs.flatten(), \n",
    "        chroma.flatten(), \n",
    "        rms.flatten()\n",
    "    ])\n",
    "    \n",
    "    return features"
   ]
  },
  {
   "cell_type": "code",
   "execution_count": 205,
   "metadata": {},
   "outputs": [],
   "source": [
    "# Function to extract features from a list of audio files\n",
    "def extract_features_from_files(audio_files, target_duration=3.0):\n",
    "    \"\"\"\n",
    "    Extract features from a list of audio files.\n",
    "    \n",
    "    Parameters:\n",
    "    - audio_files: List of paths to audio files.\n",
    "    - target_duration: Duration to which the audio should be truncated (in seconds).\n",
    "    \n",
    "    Returns:\n",
    "    - features_list: A 2D numpy array of features.\n",
    "    \"\"\"\n",
    "    features_list = []\n",
    "    \n",
    "    for audio_file in audio_files:\n",
    "        features = extract_audio_features(audio_file, target_duration)\n",
    "        features_list.append(features)\n",
    "    \n",
    "    return np.array(features_list)"
   ]
  },
  {
   "cell_type": "code",
   "execution_count": 206,
   "metadata": {},
   "outputs": [],
   "source": [
    "def visualize_audio(features, name='Audio', n=6):\n",
    "\n",
    "    # Normalize the feature data (important for t-SNE)\n",
    "    scaler = StandardScaler()\n",
    "    features_scaled = scaler.fit_transform(features)\n",
    "\n",
    "    # Apply t-SNE for dimensionality reduction\n",
    "    tsne = TSNE(n_components=3, random_state=42, perplexity=10)\n",
    "    features_tsne = tsne.fit_transform(features_scaled)\n",
    "\n",
    "    # Generate different colors based on audio type (Clap vs Echo)\n",
    "    colors = ['blue'] * n if 'clap' in name.lower() else ['red'] * n\n",
    "\n",
    "    # Create a 3D scatter plot with plotly\n",
    "    fig = go.Figure()\n",
    "\n",
    "    # Add scatter3d for the points with color based on audio type\n",
    "    fig.add_trace(go.Scatter3d(\n",
    "        x=features_tsne[:, 0], \n",
    "        y=features_tsne[:, 1], \n",
    "        z=features_tsne[:, 2],\n",
    "        mode='markers',\n",
    "        marker=dict(size=8, color=colors, opacity=0.8)\n",
    "    ))\n",
    "\n",
    "    # # Add surface (shading) to the plot\n",
    "    # fig.add_trace(go.Mesh3d(\n",
    "    #     x=features_tsne[:, 0], \n",
    "    #     y=features_tsne[:, 1], \n",
    "    #     z=features_tsne[:, 2],\n",
    "    #     color='green', \n",
    "    #     opacity=0.5, \n",
    "    #     alphahull=5  # Control the convex hull of the surface\n",
    "    # ))\n",
    "\n",
    "    # Update the layout for better visualization\n",
    "    fig.update_layout(\n",
    "        title=f'3D Plot of {name} Features using t-SNE with Shading',\n",
    "        scene=dict(\n",
    "            xaxis_title='t-SNE 1',\n",
    "            yaxis_title='t-SNE 2',\n",
    "            zaxis_title='t-SNE 3'\n",
    "        )\n",
    "    )\n",
    "\n",
    "    # Show the plot interactively\n",
    "    fig.show()"
   ]
  },
  {
   "cell_type": "code",
   "execution_count": 212,
   "metadata": {},
   "outputs": [],
   "source": [
    "def detect_non_anomalies(precomputed_features, new_audio_files, threshold=3.0, target_duration=3.0, batch_size=10):\n",
    "    \"\"\"\n",
    "    Detect non-anomalous audio samples based on precomputed features.\n",
    "    \n",
    "    Parameters:\n",
    "    - precomputed_features: A 2D array where each row represents the extracted features of a reference audio file.\n",
    "    - new_audio_files: List of paths to new audio files to check for non-anomalies.\n",
    "    - threshold: Z-score threshold for identifying non-anomalous files.\n",
    "    - target_duration: Duration to which the audio should be truncated (in seconds).\n",
    "    - batch_size: Number of audio files to process in a single batch (for efficiency).\n",
    "    \n",
    "    Returns:\n",
    "    - non_anomalous_audio: List of non-anomalous audio files.\n",
    "    \"\"\"\n",
    "    # Step 1: Convert precomputed features to a NumPy array if not already\n",
    "    features_matrix = np.array(precomputed_features)\n",
    "\n",
    "    # Step 2: Calculate mean and standard deviation for each feature across reference files\n",
    "    feature_means = np.mean(features_matrix, axis=0)\n",
    "    feature_stds = np.std(features_matrix, axis=0)\n",
    "\n",
    "    # Step 3: Handle features with zero standard deviation (no variation)\n",
    "    feature_stds = np.where(feature_stds == 0, 1, feature_stds)  # Prevent division by zero\n",
    "\n",
    "    # Step 4: Initialize an empty list to store non-anomalous audio files\n",
    "    non_anomalous_audio = []\n",
    "\n",
    "    # Step 5: Batch process the new audio files\n",
    "    for i in range(0, len(new_audio_files), batch_size):\n",
    "        batch_files = new_audio_files[i:i + batch_size]\n",
    "        \n",
    "        # Extract features for the current batch\n",
    "        batch_features = np.array([\n",
    "            extract_audio_features(file, target_duration) for file in batch_files\n",
    "        ])\n",
    "        \n",
    "        # Calculate Z-scores for the batch\n",
    "        z_scores_batch = (batch_features - feature_means) / feature_stds\n",
    "        \n",
    "        # Identify non-anomalous files in the batch\n",
    "        for j, z_scores in enumerate(z_scores_batch):\n",
    "            if np.all(np.abs(z_scores) <= threshold):\n",
    "                non_anomalous_audio.append(batch_files[j])\n",
    "\n",
    "    return non_anomalous_audio\n"
   ]
  },
  {
   "cell_type": "code",
   "execution_count": 208,
   "metadata": {},
   "outputs": [
    {
     "data": {
      "application/vnd.plotly.v1+json": {
       "config": {
        "plotlyServerURL": "https://plot.ly"
       },
       "data": [
        {
         "marker": {
          "color": [
           "blue",
           "blue",
           "blue",
           "blue",
           "blue",
           "blue",
           "blue",
           "blue",
           "blue",
           "blue",
           "blue",
           "blue"
          ],
          "opacity": 0.8,
          "size": 8
         },
         "mode": "markers",
         "type": "scatter3d",
         "x": [
          -4.848618984222412,
          -160.9709014892578,
          29.311870574951172,
          45.83711242675781,
          181.77252197265625,
          -71.24703979492188,
          13.006941795349121,
          -83.76993560791016,
          105.36727142333984,
          114.70292663574219,
          -132.7959747314453,
          -23.04703712463379
         ],
         "y": [
          373.2632751464844,
          130.81219482421875,
          -100.09396362304688,
          149.2303924560547,
          -16.55681610107422,
          -293.7024841308594,
          -317.5274353027344,
          -49.935325622558594,
          247.34759521484375,
          -129.8965606689453,
          27.014280319213867,
          57.000465393066406
         ],
         "z": [
          60.018516540527344,
          -19.394250869750977,
          -171.98184204101562,
          29.74169158935547,
          154.54151916503906,
          243.8384246826172,
          34.27568054199219,
          18.833086013793945,
          -122.39642333984375,
          4.829155445098877,
          -207.96420288085938,
          208.20089721679688
         ]
        }
       ],
       "layout": {
        "scene": {
         "xaxis": {
          "title": {
           "text": "t-SNE 1"
          }
         },
         "yaxis": {
          "title": {
           "text": "t-SNE 2"
          }
         },
         "zaxis": {
          "title": {
           "text": "t-SNE 3"
          }
         }
        },
        "template": {
         "data": {
          "bar": [
           {
            "error_x": {
             "color": "#2a3f5f"
            },
            "error_y": {
             "color": "#2a3f5f"
            },
            "marker": {
             "line": {
              "color": "#E5ECF6",
              "width": 0.5
             },
             "pattern": {
              "fillmode": "overlay",
              "size": 10,
              "solidity": 0.2
             }
            },
            "type": "bar"
           }
          ],
          "barpolar": [
           {
            "marker": {
             "line": {
              "color": "#E5ECF6",
              "width": 0.5
             },
             "pattern": {
              "fillmode": "overlay",
              "size": 10,
              "solidity": 0.2
             }
            },
            "type": "barpolar"
           }
          ],
          "carpet": [
           {
            "aaxis": {
             "endlinecolor": "#2a3f5f",
             "gridcolor": "white",
             "linecolor": "white",
             "minorgridcolor": "white",
             "startlinecolor": "#2a3f5f"
            },
            "baxis": {
             "endlinecolor": "#2a3f5f",
             "gridcolor": "white",
             "linecolor": "white",
             "minorgridcolor": "white",
             "startlinecolor": "#2a3f5f"
            },
            "type": "carpet"
           }
          ],
          "choropleth": [
           {
            "colorbar": {
             "outlinewidth": 0,
             "ticks": ""
            },
            "type": "choropleth"
           }
          ],
          "contour": [
           {
            "colorbar": {
             "outlinewidth": 0,
             "ticks": ""
            },
            "colorscale": [
             [
              0,
              "#0d0887"
             ],
             [
              0.1111111111111111,
              "#46039f"
             ],
             [
              0.2222222222222222,
              "#7201a8"
             ],
             [
              0.3333333333333333,
              "#9c179e"
             ],
             [
              0.4444444444444444,
              "#bd3786"
             ],
             [
              0.5555555555555556,
              "#d8576b"
             ],
             [
              0.6666666666666666,
              "#ed7953"
             ],
             [
              0.7777777777777778,
              "#fb9f3a"
             ],
             [
              0.8888888888888888,
              "#fdca26"
             ],
             [
              1,
              "#f0f921"
             ]
            ],
            "type": "contour"
           }
          ],
          "contourcarpet": [
           {
            "colorbar": {
             "outlinewidth": 0,
             "ticks": ""
            },
            "type": "contourcarpet"
           }
          ],
          "heatmap": [
           {
            "colorbar": {
             "outlinewidth": 0,
             "ticks": ""
            },
            "colorscale": [
             [
              0,
              "#0d0887"
             ],
             [
              0.1111111111111111,
              "#46039f"
             ],
             [
              0.2222222222222222,
              "#7201a8"
             ],
             [
              0.3333333333333333,
              "#9c179e"
             ],
             [
              0.4444444444444444,
              "#bd3786"
             ],
             [
              0.5555555555555556,
              "#d8576b"
             ],
             [
              0.6666666666666666,
              "#ed7953"
             ],
             [
              0.7777777777777778,
              "#fb9f3a"
             ],
             [
              0.8888888888888888,
              "#fdca26"
             ],
             [
              1,
              "#f0f921"
             ]
            ],
            "type": "heatmap"
           }
          ],
          "heatmapgl": [
           {
            "colorbar": {
             "outlinewidth": 0,
             "ticks": ""
            },
            "colorscale": [
             [
              0,
              "#0d0887"
             ],
             [
              0.1111111111111111,
              "#46039f"
             ],
             [
              0.2222222222222222,
              "#7201a8"
             ],
             [
              0.3333333333333333,
              "#9c179e"
             ],
             [
              0.4444444444444444,
              "#bd3786"
             ],
             [
              0.5555555555555556,
              "#d8576b"
             ],
             [
              0.6666666666666666,
              "#ed7953"
             ],
             [
              0.7777777777777778,
              "#fb9f3a"
             ],
             [
              0.8888888888888888,
              "#fdca26"
             ],
             [
              1,
              "#f0f921"
             ]
            ],
            "type": "heatmapgl"
           }
          ],
          "histogram": [
           {
            "marker": {
             "pattern": {
              "fillmode": "overlay",
              "size": 10,
              "solidity": 0.2
             }
            },
            "type": "histogram"
           }
          ],
          "histogram2d": [
           {
            "colorbar": {
             "outlinewidth": 0,
             "ticks": ""
            },
            "colorscale": [
             [
              0,
              "#0d0887"
             ],
             [
              0.1111111111111111,
              "#46039f"
             ],
             [
              0.2222222222222222,
              "#7201a8"
             ],
             [
              0.3333333333333333,
              "#9c179e"
             ],
             [
              0.4444444444444444,
              "#bd3786"
             ],
             [
              0.5555555555555556,
              "#d8576b"
             ],
             [
              0.6666666666666666,
              "#ed7953"
             ],
             [
              0.7777777777777778,
              "#fb9f3a"
             ],
             [
              0.8888888888888888,
              "#fdca26"
             ],
             [
              1,
              "#f0f921"
             ]
            ],
            "type": "histogram2d"
           }
          ],
          "histogram2dcontour": [
           {
            "colorbar": {
             "outlinewidth": 0,
             "ticks": ""
            },
            "colorscale": [
             [
              0,
              "#0d0887"
             ],
             [
              0.1111111111111111,
              "#46039f"
             ],
             [
              0.2222222222222222,
              "#7201a8"
             ],
             [
              0.3333333333333333,
              "#9c179e"
             ],
             [
              0.4444444444444444,
              "#bd3786"
             ],
             [
              0.5555555555555556,
              "#d8576b"
             ],
             [
              0.6666666666666666,
              "#ed7953"
             ],
             [
              0.7777777777777778,
              "#fb9f3a"
             ],
             [
              0.8888888888888888,
              "#fdca26"
             ],
             [
              1,
              "#f0f921"
             ]
            ],
            "type": "histogram2dcontour"
           }
          ],
          "mesh3d": [
           {
            "colorbar": {
             "outlinewidth": 0,
             "ticks": ""
            },
            "type": "mesh3d"
           }
          ],
          "parcoords": [
           {
            "line": {
             "colorbar": {
              "outlinewidth": 0,
              "ticks": ""
             }
            },
            "type": "parcoords"
           }
          ],
          "pie": [
           {
            "automargin": true,
            "type": "pie"
           }
          ],
          "scatter": [
           {
            "fillpattern": {
             "fillmode": "overlay",
             "size": 10,
             "solidity": 0.2
            },
            "type": "scatter"
           }
          ],
          "scatter3d": [
           {
            "line": {
             "colorbar": {
              "outlinewidth": 0,
              "ticks": ""
             }
            },
            "marker": {
             "colorbar": {
              "outlinewidth": 0,
              "ticks": ""
             }
            },
            "type": "scatter3d"
           }
          ],
          "scattercarpet": [
           {
            "marker": {
             "colorbar": {
              "outlinewidth": 0,
              "ticks": ""
             }
            },
            "type": "scattercarpet"
           }
          ],
          "scattergeo": [
           {
            "marker": {
             "colorbar": {
              "outlinewidth": 0,
              "ticks": ""
             }
            },
            "type": "scattergeo"
           }
          ],
          "scattergl": [
           {
            "marker": {
             "colorbar": {
              "outlinewidth": 0,
              "ticks": ""
             }
            },
            "type": "scattergl"
           }
          ],
          "scattermapbox": [
           {
            "marker": {
             "colorbar": {
              "outlinewidth": 0,
              "ticks": ""
             }
            },
            "type": "scattermapbox"
           }
          ],
          "scatterpolar": [
           {
            "marker": {
             "colorbar": {
              "outlinewidth": 0,
              "ticks": ""
             }
            },
            "type": "scatterpolar"
           }
          ],
          "scatterpolargl": [
           {
            "marker": {
             "colorbar": {
              "outlinewidth": 0,
              "ticks": ""
             }
            },
            "type": "scatterpolargl"
           }
          ],
          "scatterternary": [
           {
            "marker": {
             "colorbar": {
              "outlinewidth": 0,
              "ticks": ""
             }
            },
            "type": "scatterternary"
           }
          ],
          "surface": [
           {
            "colorbar": {
             "outlinewidth": 0,
             "ticks": ""
            },
            "colorscale": [
             [
              0,
              "#0d0887"
             ],
             [
              0.1111111111111111,
              "#46039f"
             ],
             [
              0.2222222222222222,
              "#7201a8"
             ],
             [
              0.3333333333333333,
              "#9c179e"
             ],
             [
              0.4444444444444444,
              "#bd3786"
             ],
             [
              0.5555555555555556,
              "#d8576b"
             ],
             [
              0.6666666666666666,
              "#ed7953"
             ],
             [
              0.7777777777777778,
              "#fb9f3a"
             ],
             [
              0.8888888888888888,
              "#fdca26"
             ],
             [
              1,
              "#f0f921"
             ]
            ],
            "type": "surface"
           }
          ],
          "table": [
           {
            "cells": {
             "fill": {
              "color": "#EBF0F8"
             },
             "line": {
              "color": "white"
             }
            },
            "header": {
             "fill": {
              "color": "#C8D4E3"
             },
             "line": {
              "color": "white"
             }
            },
            "type": "table"
           }
          ]
         },
         "layout": {
          "annotationdefaults": {
           "arrowcolor": "#2a3f5f",
           "arrowhead": 0,
           "arrowwidth": 1
          },
          "autotypenumbers": "strict",
          "coloraxis": {
           "colorbar": {
            "outlinewidth": 0,
            "ticks": ""
           }
          },
          "colorscale": {
           "diverging": [
            [
             0,
             "#8e0152"
            ],
            [
             0.1,
             "#c51b7d"
            ],
            [
             0.2,
             "#de77ae"
            ],
            [
             0.3,
             "#f1b6da"
            ],
            [
             0.4,
             "#fde0ef"
            ],
            [
             0.5,
             "#f7f7f7"
            ],
            [
             0.6,
             "#e6f5d0"
            ],
            [
             0.7,
             "#b8e186"
            ],
            [
             0.8,
             "#7fbc41"
            ],
            [
             0.9,
             "#4d9221"
            ],
            [
             1,
             "#276419"
            ]
           ],
           "sequential": [
            [
             0,
             "#0d0887"
            ],
            [
             0.1111111111111111,
             "#46039f"
            ],
            [
             0.2222222222222222,
             "#7201a8"
            ],
            [
             0.3333333333333333,
             "#9c179e"
            ],
            [
             0.4444444444444444,
             "#bd3786"
            ],
            [
             0.5555555555555556,
             "#d8576b"
            ],
            [
             0.6666666666666666,
             "#ed7953"
            ],
            [
             0.7777777777777778,
             "#fb9f3a"
            ],
            [
             0.8888888888888888,
             "#fdca26"
            ],
            [
             1,
             "#f0f921"
            ]
           ],
           "sequentialminus": [
            [
             0,
             "#0d0887"
            ],
            [
             0.1111111111111111,
             "#46039f"
            ],
            [
             0.2222222222222222,
             "#7201a8"
            ],
            [
             0.3333333333333333,
             "#9c179e"
            ],
            [
             0.4444444444444444,
             "#bd3786"
            ],
            [
             0.5555555555555556,
             "#d8576b"
            ],
            [
             0.6666666666666666,
             "#ed7953"
            ],
            [
             0.7777777777777778,
             "#fb9f3a"
            ],
            [
             0.8888888888888888,
             "#fdca26"
            ],
            [
             1,
             "#f0f921"
            ]
           ]
          },
          "colorway": [
           "#636efa",
           "#EF553B",
           "#00cc96",
           "#ab63fa",
           "#FFA15A",
           "#19d3f3",
           "#FF6692",
           "#B6E880",
           "#FF97FF",
           "#FECB52"
          ],
          "font": {
           "color": "#2a3f5f"
          },
          "geo": {
           "bgcolor": "white",
           "lakecolor": "white",
           "landcolor": "#E5ECF6",
           "showlakes": true,
           "showland": true,
           "subunitcolor": "white"
          },
          "hoverlabel": {
           "align": "left"
          },
          "hovermode": "closest",
          "mapbox": {
           "style": "light"
          },
          "paper_bgcolor": "white",
          "plot_bgcolor": "#E5ECF6",
          "polar": {
           "angularaxis": {
            "gridcolor": "white",
            "linecolor": "white",
            "ticks": ""
           },
           "bgcolor": "#E5ECF6",
           "radialaxis": {
            "gridcolor": "white",
            "linecolor": "white",
            "ticks": ""
           }
          },
          "scene": {
           "xaxis": {
            "backgroundcolor": "#E5ECF6",
            "gridcolor": "white",
            "gridwidth": 2,
            "linecolor": "white",
            "showbackground": true,
            "ticks": "",
            "zerolinecolor": "white"
           },
           "yaxis": {
            "backgroundcolor": "#E5ECF6",
            "gridcolor": "white",
            "gridwidth": 2,
            "linecolor": "white",
            "showbackground": true,
            "ticks": "",
            "zerolinecolor": "white"
           },
           "zaxis": {
            "backgroundcolor": "#E5ECF6",
            "gridcolor": "white",
            "gridwidth": 2,
            "linecolor": "white",
            "showbackground": true,
            "ticks": "",
            "zerolinecolor": "white"
           }
          },
          "shapedefaults": {
           "line": {
            "color": "#2a3f5f"
           }
          },
          "ternary": {
           "aaxis": {
            "gridcolor": "white",
            "linecolor": "white",
            "ticks": ""
           },
           "baxis": {
            "gridcolor": "white",
            "linecolor": "white",
            "ticks": ""
           },
           "bgcolor": "#E5ECF6",
           "caxis": {
            "gridcolor": "white",
            "linecolor": "white",
            "ticks": ""
           }
          },
          "title": {
           "x": 0.05
          },
          "xaxis": {
           "automargin": true,
           "gridcolor": "white",
           "linecolor": "white",
           "ticks": "",
           "title": {
            "standoff": 15
           },
           "zerolinecolor": "white",
           "zerolinewidth": 2
          },
          "yaxis": {
           "automargin": true,
           "gridcolor": "white",
           "linecolor": "white",
           "ticks": "",
           "title": {
            "standoff": 15
           },
           "zerolinecolor": "white",
           "zerolinewidth": 2
          }
         }
        },
        "title": {
         "text": "3D Plot of Clap Audio Features using t-SNE with Shading"
        }
       }
      }
     },
     "metadata": {},
     "output_type": "display_data"
    }
   ],
   "source": [
    "# List of audio files for \"Clap\" and \"Echo\" categories\n",
    "\n",
    "original_claps =['../data/claps/clap-1.wav','../data/claps/clap-2.wav','../data/claps/clap-3.wav','../data/claps/clap-4.wav','../data/claps/clap-5.wav','../data/claps/clap-6.wav']\n",
    "filtered_claps =['../data/filtered_claps/clap_1.wav', '../data/filtered_claps/clap_2.wav', '../data/filtered_claps/clap_3.wav', '../data/filtered_claps/clap_4.wav', '../data/filtered_claps/clap_5.wav', '../data/filtered_claps/clap_6.wav']\n",
    "\n",
    "claps = original_claps + filtered_claps\n",
    "\n",
    "# Extract features from the audio files\n",
    "clap_audio_features = extract_features_from_files(claps,CLAP_DURATION)\n",
    "\n",
    "# Visualize the audio features for \"Clap\" and \"Echo\"\n",
    "visualize_audio(clap_audio_features, 'Clap Audio', len(claps))"
   ]
  },
  {
   "cell_type": "code",
   "execution_count": 209,
   "metadata": {},
   "outputs": [
    {
     "data": {
      "application/vnd.plotly.v1+json": {
       "config": {
        "plotlyServerURL": "https://plot.ly"
       },
       "data": [
        {
         "marker": {
          "color": [
           "red",
           "red",
           "red",
           "red",
           "red",
           "red",
           "red",
           "red",
           "red",
           "red",
           "red",
           "red"
          ],
          "opacity": 0.8,
          "size": 8
         },
         "mode": "markers",
         "type": "scatter3d",
         "x": [
          -30.296079635620117,
          37.134918212890625,
          24.61350440979004,
          -48.59843826293945,
          4.268883228302002,
          32.77621078491211,
          117.25157165527344,
          138.25286865234375,
          -145.26126098632812,
          90.24810791015625,
          -71.77064514160156,
          -126.430908203125
         ],
         "y": [
          73.37037658691406,
          -145.56207275390625,
          98.42645263671875,
          -14.059682846069336,
          -67.84954833984375,
          212.2351531982422,
          82.38365173339844,
          -41.8664436340332,
          -93.21922302246094,
          -38.067665100097656,
          -101.33081817626953,
          67.90493774414062
         ],
         "z": [
          79.1163330078125,
          -135.99307250976562,
          -97.56790161132812,
          -196.02352905273438,
          -6.546623229980469,
          71.03217315673828,
          30.990644454956055,
          -85.23287200927734,
          -61.93416976928711,
          121.68103790283203,
          98.70178985595703,
          -55.48300552368164
         ]
        }
       ],
       "layout": {
        "scene": {
         "xaxis": {
          "title": {
           "text": "t-SNE 1"
          }
         },
         "yaxis": {
          "title": {
           "text": "t-SNE 2"
          }
         },
         "zaxis": {
          "title": {
           "text": "t-SNE 3"
          }
         }
        },
        "template": {
         "data": {
          "bar": [
           {
            "error_x": {
             "color": "#2a3f5f"
            },
            "error_y": {
             "color": "#2a3f5f"
            },
            "marker": {
             "line": {
              "color": "#E5ECF6",
              "width": 0.5
             },
             "pattern": {
              "fillmode": "overlay",
              "size": 10,
              "solidity": 0.2
             }
            },
            "type": "bar"
           }
          ],
          "barpolar": [
           {
            "marker": {
             "line": {
              "color": "#E5ECF6",
              "width": 0.5
             },
             "pattern": {
              "fillmode": "overlay",
              "size": 10,
              "solidity": 0.2
             }
            },
            "type": "barpolar"
           }
          ],
          "carpet": [
           {
            "aaxis": {
             "endlinecolor": "#2a3f5f",
             "gridcolor": "white",
             "linecolor": "white",
             "minorgridcolor": "white",
             "startlinecolor": "#2a3f5f"
            },
            "baxis": {
             "endlinecolor": "#2a3f5f",
             "gridcolor": "white",
             "linecolor": "white",
             "minorgridcolor": "white",
             "startlinecolor": "#2a3f5f"
            },
            "type": "carpet"
           }
          ],
          "choropleth": [
           {
            "colorbar": {
             "outlinewidth": 0,
             "ticks": ""
            },
            "type": "choropleth"
           }
          ],
          "contour": [
           {
            "colorbar": {
             "outlinewidth": 0,
             "ticks": ""
            },
            "colorscale": [
             [
              0,
              "#0d0887"
             ],
             [
              0.1111111111111111,
              "#46039f"
             ],
             [
              0.2222222222222222,
              "#7201a8"
             ],
             [
              0.3333333333333333,
              "#9c179e"
             ],
             [
              0.4444444444444444,
              "#bd3786"
             ],
             [
              0.5555555555555556,
              "#d8576b"
             ],
             [
              0.6666666666666666,
              "#ed7953"
             ],
             [
              0.7777777777777778,
              "#fb9f3a"
             ],
             [
              0.8888888888888888,
              "#fdca26"
             ],
             [
              1,
              "#f0f921"
             ]
            ],
            "type": "contour"
           }
          ],
          "contourcarpet": [
           {
            "colorbar": {
             "outlinewidth": 0,
             "ticks": ""
            },
            "type": "contourcarpet"
           }
          ],
          "heatmap": [
           {
            "colorbar": {
             "outlinewidth": 0,
             "ticks": ""
            },
            "colorscale": [
             [
              0,
              "#0d0887"
             ],
             [
              0.1111111111111111,
              "#46039f"
             ],
             [
              0.2222222222222222,
              "#7201a8"
             ],
             [
              0.3333333333333333,
              "#9c179e"
             ],
             [
              0.4444444444444444,
              "#bd3786"
             ],
             [
              0.5555555555555556,
              "#d8576b"
             ],
             [
              0.6666666666666666,
              "#ed7953"
             ],
             [
              0.7777777777777778,
              "#fb9f3a"
             ],
             [
              0.8888888888888888,
              "#fdca26"
             ],
             [
              1,
              "#f0f921"
             ]
            ],
            "type": "heatmap"
           }
          ],
          "heatmapgl": [
           {
            "colorbar": {
             "outlinewidth": 0,
             "ticks": ""
            },
            "colorscale": [
             [
              0,
              "#0d0887"
             ],
             [
              0.1111111111111111,
              "#46039f"
             ],
             [
              0.2222222222222222,
              "#7201a8"
             ],
             [
              0.3333333333333333,
              "#9c179e"
             ],
             [
              0.4444444444444444,
              "#bd3786"
             ],
             [
              0.5555555555555556,
              "#d8576b"
             ],
             [
              0.6666666666666666,
              "#ed7953"
             ],
             [
              0.7777777777777778,
              "#fb9f3a"
             ],
             [
              0.8888888888888888,
              "#fdca26"
             ],
             [
              1,
              "#f0f921"
             ]
            ],
            "type": "heatmapgl"
           }
          ],
          "histogram": [
           {
            "marker": {
             "pattern": {
              "fillmode": "overlay",
              "size": 10,
              "solidity": 0.2
             }
            },
            "type": "histogram"
           }
          ],
          "histogram2d": [
           {
            "colorbar": {
             "outlinewidth": 0,
             "ticks": ""
            },
            "colorscale": [
             [
              0,
              "#0d0887"
             ],
             [
              0.1111111111111111,
              "#46039f"
             ],
             [
              0.2222222222222222,
              "#7201a8"
             ],
             [
              0.3333333333333333,
              "#9c179e"
             ],
             [
              0.4444444444444444,
              "#bd3786"
             ],
             [
              0.5555555555555556,
              "#d8576b"
             ],
             [
              0.6666666666666666,
              "#ed7953"
             ],
             [
              0.7777777777777778,
              "#fb9f3a"
             ],
             [
              0.8888888888888888,
              "#fdca26"
             ],
             [
              1,
              "#f0f921"
             ]
            ],
            "type": "histogram2d"
           }
          ],
          "histogram2dcontour": [
           {
            "colorbar": {
             "outlinewidth": 0,
             "ticks": ""
            },
            "colorscale": [
             [
              0,
              "#0d0887"
             ],
             [
              0.1111111111111111,
              "#46039f"
             ],
             [
              0.2222222222222222,
              "#7201a8"
             ],
             [
              0.3333333333333333,
              "#9c179e"
             ],
             [
              0.4444444444444444,
              "#bd3786"
             ],
             [
              0.5555555555555556,
              "#d8576b"
             ],
             [
              0.6666666666666666,
              "#ed7953"
             ],
             [
              0.7777777777777778,
              "#fb9f3a"
             ],
             [
              0.8888888888888888,
              "#fdca26"
             ],
             [
              1,
              "#f0f921"
             ]
            ],
            "type": "histogram2dcontour"
           }
          ],
          "mesh3d": [
           {
            "colorbar": {
             "outlinewidth": 0,
             "ticks": ""
            },
            "type": "mesh3d"
           }
          ],
          "parcoords": [
           {
            "line": {
             "colorbar": {
              "outlinewidth": 0,
              "ticks": ""
             }
            },
            "type": "parcoords"
           }
          ],
          "pie": [
           {
            "automargin": true,
            "type": "pie"
           }
          ],
          "scatter": [
           {
            "fillpattern": {
             "fillmode": "overlay",
             "size": 10,
             "solidity": 0.2
            },
            "type": "scatter"
           }
          ],
          "scatter3d": [
           {
            "line": {
             "colorbar": {
              "outlinewidth": 0,
              "ticks": ""
             }
            },
            "marker": {
             "colorbar": {
              "outlinewidth": 0,
              "ticks": ""
             }
            },
            "type": "scatter3d"
           }
          ],
          "scattercarpet": [
           {
            "marker": {
             "colorbar": {
              "outlinewidth": 0,
              "ticks": ""
             }
            },
            "type": "scattercarpet"
           }
          ],
          "scattergeo": [
           {
            "marker": {
             "colorbar": {
              "outlinewidth": 0,
              "ticks": ""
             }
            },
            "type": "scattergeo"
           }
          ],
          "scattergl": [
           {
            "marker": {
             "colorbar": {
              "outlinewidth": 0,
              "ticks": ""
             }
            },
            "type": "scattergl"
           }
          ],
          "scattermapbox": [
           {
            "marker": {
             "colorbar": {
              "outlinewidth": 0,
              "ticks": ""
             }
            },
            "type": "scattermapbox"
           }
          ],
          "scatterpolar": [
           {
            "marker": {
             "colorbar": {
              "outlinewidth": 0,
              "ticks": ""
             }
            },
            "type": "scatterpolar"
           }
          ],
          "scatterpolargl": [
           {
            "marker": {
             "colorbar": {
              "outlinewidth": 0,
              "ticks": ""
             }
            },
            "type": "scatterpolargl"
           }
          ],
          "scatterternary": [
           {
            "marker": {
             "colorbar": {
              "outlinewidth": 0,
              "ticks": ""
             }
            },
            "type": "scatterternary"
           }
          ],
          "surface": [
           {
            "colorbar": {
             "outlinewidth": 0,
             "ticks": ""
            },
            "colorscale": [
             [
              0,
              "#0d0887"
             ],
             [
              0.1111111111111111,
              "#46039f"
             ],
             [
              0.2222222222222222,
              "#7201a8"
             ],
             [
              0.3333333333333333,
              "#9c179e"
             ],
             [
              0.4444444444444444,
              "#bd3786"
             ],
             [
              0.5555555555555556,
              "#d8576b"
             ],
             [
              0.6666666666666666,
              "#ed7953"
             ],
             [
              0.7777777777777778,
              "#fb9f3a"
             ],
             [
              0.8888888888888888,
              "#fdca26"
             ],
             [
              1,
              "#f0f921"
             ]
            ],
            "type": "surface"
           }
          ],
          "table": [
           {
            "cells": {
             "fill": {
              "color": "#EBF0F8"
             },
             "line": {
              "color": "white"
             }
            },
            "header": {
             "fill": {
              "color": "#C8D4E3"
             },
             "line": {
              "color": "white"
             }
            },
            "type": "table"
           }
          ]
         },
         "layout": {
          "annotationdefaults": {
           "arrowcolor": "#2a3f5f",
           "arrowhead": 0,
           "arrowwidth": 1
          },
          "autotypenumbers": "strict",
          "coloraxis": {
           "colorbar": {
            "outlinewidth": 0,
            "ticks": ""
           }
          },
          "colorscale": {
           "diverging": [
            [
             0,
             "#8e0152"
            ],
            [
             0.1,
             "#c51b7d"
            ],
            [
             0.2,
             "#de77ae"
            ],
            [
             0.3,
             "#f1b6da"
            ],
            [
             0.4,
             "#fde0ef"
            ],
            [
             0.5,
             "#f7f7f7"
            ],
            [
             0.6,
             "#e6f5d0"
            ],
            [
             0.7,
             "#b8e186"
            ],
            [
             0.8,
             "#7fbc41"
            ],
            [
             0.9,
             "#4d9221"
            ],
            [
             1,
             "#276419"
            ]
           ],
           "sequential": [
            [
             0,
             "#0d0887"
            ],
            [
             0.1111111111111111,
             "#46039f"
            ],
            [
             0.2222222222222222,
             "#7201a8"
            ],
            [
             0.3333333333333333,
             "#9c179e"
            ],
            [
             0.4444444444444444,
             "#bd3786"
            ],
            [
             0.5555555555555556,
             "#d8576b"
            ],
            [
             0.6666666666666666,
             "#ed7953"
            ],
            [
             0.7777777777777778,
             "#fb9f3a"
            ],
            [
             0.8888888888888888,
             "#fdca26"
            ],
            [
             1,
             "#f0f921"
            ]
           ],
           "sequentialminus": [
            [
             0,
             "#0d0887"
            ],
            [
             0.1111111111111111,
             "#46039f"
            ],
            [
             0.2222222222222222,
             "#7201a8"
            ],
            [
             0.3333333333333333,
             "#9c179e"
            ],
            [
             0.4444444444444444,
             "#bd3786"
            ],
            [
             0.5555555555555556,
             "#d8576b"
            ],
            [
             0.6666666666666666,
             "#ed7953"
            ],
            [
             0.7777777777777778,
             "#fb9f3a"
            ],
            [
             0.8888888888888888,
             "#fdca26"
            ],
            [
             1,
             "#f0f921"
            ]
           ]
          },
          "colorway": [
           "#636efa",
           "#EF553B",
           "#00cc96",
           "#ab63fa",
           "#FFA15A",
           "#19d3f3",
           "#FF6692",
           "#B6E880",
           "#FF97FF",
           "#FECB52"
          ],
          "font": {
           "color": "#2a3f5f"
          },
          "geo": {
           "bgcolor": "white",
           "lakecolor": "white",
           "landcolor": "#E5ECF6",
           "showlakes": true,
           "showland": true,
           "subunitcolor": "white"
          },
          "hoverlabel": {
           "align": "left"
          },
          "hovermode": "closest",
          "mapbox": {
           "style": "light"
          },
          "paper_bgcolor": "white",
          "plot_bgcolor": "#E5ECF6",
          "polar": {
           "angularaxis": {
            "gridcolor": "white",
            "linecolor": "white",
            "ticks": ""
           },
           "bgcolor": "#E5ECF6",
           "radialaxis": {
            "gridcolor": "white",
            "linecolor": "white",
            "ticks": ""
           }
          },
          "scene": {
           "xaxis": {
            "backgroundcolor": "#E5ECF6",
            "gridcolor": "white",
            "gridwidth": 2,
            "linecolor": "white",
            "showbackground": true,
            "ticks": "",
            "zerolinecolor": "white"
           },
           "yaxis": {
            "backgroundcolor": "#E5ECF6",
            "gridcolor": "white",
            "gridwidth": 2,
            "linecolor": "white",
            "showbackground": true,
            "ticks": "",
            "zerolinecolor": "white"
           },
           "zaxis": {
            "backgroundcolor": "#E5ECF6",
            "gridcolor": "white",
            "gridwidth": 2,
            "linecolor": "white",
            "showbackground": true,
            "ticks": "",
            "zerolinecolor": "white"
           }
          },
          "shapedefaults": {
           "line": {
            "color": "#2a3f5f"
           }
          },
          "ternary": {
           "aaxis": {
            "gridcolor": "white",
            "linecolor": "white",
            "ticks": ""
           },
           "baxis": {
            "gridcolor": "white",
            "linecolor": "white",
            "ticks": ""
           },
           "bgcolor": "#E5ECF6",
           "caxis": {
            "gridcolor": "white",
            "linecolor": "white",
            "ticks": ""
           }
          },
          "title": {
           "x": 0.05
          },
          "xaxis": {
           "automargin": true,
           "gridcolor": "white",
           "linecolor": "white",
           "ticks": "",
           "title": {
            "standoff": 15
           },
           "zerolinecolor": "white",
           "zerolinewidth": 2
          },
          "yaxis": {
           "automargin": true,
           "gridcolor": "white",
           "linecolor": "white",
           "ticks": "",
           "title": {
            "standoff": 15
           },
           "zerolinecolor": "white",
           "zerolinewidth": 2
          }
         }
        },
        "title": {
         "text": "3D Plot of Echo Audio Features using t-SNE with Shading"
        }
       }
      }
     },
     "metadata": {},
     "output_type": "display_data"
    }
   ],
   "source": [
    "original_echoes =['../data/echoes/echo-1.wav','../data/echoes/echo-2.wav','../data/echoes/echo-3.wav','../data/echoes/echo-4.wav','../data/echoes/echo-5.wav','../data/echoes/echo-6.wav']\n",
    "filtered_echoes =['../data/filtered_echoes/echo_1.wav', '../data/filtered_echoes/echo_2.wav', '../data/filtered_echoes/echo_3.wav', '../data/filtered_echoes/echo_4.wav', '../data/filtered_echoes/echo_5.wav', '../data/filtered_echoes/echo_6.wav']\n",
    "\n",
    "echoes =  original_echoes + filtered_echoes\n",
    "\n",
    "echo_audio_features = extract_features_from_files(echoes,ECHO_DURATION)\n",
    "\n",
    "visualize_audio(echo_audio_features, 'Echo Audio',len(echoes))"
   ]
  },
  {
   "cell_type": "markdown",
   "metadata": {},
   "source": []
  },
  {
   "cell_type": "code",
   "execution_count": 210,
   "metadata": {},
   "outputs": [],
   "source": [
    "augmented_claps_folder_path = '../data/augmentedClaps'\n",
    "all_augmented_clap_files = os.listdir(augmented_claps_folder_path)\n",
    "augmented_claps_abs = [f for f in all_augmented_clap_files if os.path.isfile(os.path.join(augmented_claps_folder_path, f))]\n",
    "augmented_claps=[]\n",
    "\n",
    "for c in augmented_claps_abs:\n",
    "    augmented_claps.append(augmented_claps_folder_path+'/'+c)"
   ]
  },
  {
   "cell_type": "code",
   "execution_count": 213,
   "metadata": {},
   "outputs": [],
   "source": [
    "non_anomalous_clap_audio = detect_non_anomalies(clap_audio_features, augmented_claps, threshold=3.0, target_duration=CLAP_DURATION, batch_size=100)"
   ]
  },
  {
   "cell_type": "code",
   "execution_count": 214,
   "metadata": {},
   "outputs": [
    {
     "name": "stdout",
     "output_type": "stream",
     "text": [
      "33\n"
     ]
    },
    {
     "data": {
      "application/vnd.plotly.v1+json": {
       "config": {
        "plotlyServerURL": "https://plot.ly"
       },
       "data": [
        {
         "marker": {
          "color": [
           "blue",
           "blue",
           "blue",
           "blue",
           "blue",
           "blue",
           "blue",
           "blue",
           "blue",
           "blue",
           "blue",
           "blue",
           "blue",
           "blue",
           "blue",
           "blue",
           "blue",
           "blue",
           "blue",
           "blue",
           "blue",
           "blue",
           "blue",
           "blue",
           "blue",
           "blue",
           "blue",
           "blue",
           "blue",
           "blue",
           "blue",
           "blue",
           "blue"
          ],
          "opacity": 0.8,
          "size": 8
         },
         "mode": "markers",
         "type": "scatter3d",
         "x": [
          -41.07027053833008,
          -21.492839813232422,
          -51.896488189697266,
          -8.071048736572266,
          -68.51991271972656,
          -36.503501892089844,
          -9.359675407409668,
          15.699137687683105,
          0.29896634817123413,
          -36.765689849853516,
          -30.97553253173828,
          -23.470556259155273,
          -60.62812805175781,
          -72.9643325805664,
          30.04711151123047,
          8.321782112121582,
          23.38520622253418,
          -16.444204330444336,
          20.191293716430664,
          -7.203783988952637,
          11.175739288330078,
          43.031166076660156,
          -13.121505737304688,
          24.955841064453125,
          6.692521095275879,
          1.0578105449676514,
          35.11941146850586,
          27.19013023376465,
          42.869781494140625,
          78.62850952148438,
          107.41519165039062,
          112.95379638671875,
          102.0744400024414
         ],
         "y": [
          88.26626586914062,
          58.853309631347656,
          75.93660736083984,
          94.81377410888672,
          2.246363878250122,
          -80.57128143310547,
          -100.62120056152344,
          -101.81869506835938,
          -44.93606948852539,
          -59.7568359375,
          -16.4538516998291,
          -42.06123733520508,
          -24.498308181762695,
          -36.00932693481445,
          30.262102127075195,
          1.9793157577514648,
          -27.27330207824707,
          23.360435485839844,
          13.483675003051758,
          -13.630973815917969,
          16.922910690307617,
          -3.6868834495544434,
          40.356353759765625,
          45.928001403808594,
          39.44054412841797,
          -3.0582382678985596,
          -2.927480459213257,
          -37.215370178222656,
          -5.945337772369385,
          -19.897663116455078,
          -2.13612699508667,
          -28.238845825195312,
          4.477340221405029
         ],
         "z": [
          22.802446365356445,
          4.422904014587402,
          -12.032597541809082,
          1.3219599723815918,
          53.468116760253906,
          -64.420166015625,
          -49.37257766723633,
          -19.42965316772461,
          -9.563421249389648,
          -4.841248989105225,
          -0.3284864127635956,
          29.99112319946289,
          -27.819194793701172,
          12.196972846984863,
          -7.580496311187744,
          7.92122745513916,
          -62.03594970703125,
          -74.8543701171875,
          -66.9236068725586,
          -88.58242797851562,
          -110.32563018798828,
          -101.71184539794922,
          84.76978302001953,
          84.9689712524414,
          118.4050064086914,
          98.77233123779297,
          79.24690246582031,
          101.00389862060547,
          118.81514739990234,
          1.10788893699646,
          13.07203197479248,
          -18.189491271972656,
          -30.112428665161133
         ]
        }
       ],
       "layout": {
        "scene": {
         "xaxis": {
          "title": {
           "text": "t-SNE 1"
          }
         },
         "yaxis": {
          "title": {
           "text": "t-SNE 2"
          }
         },
         "zaxis": {
          "title": {
           "text": "t-SNE 3"
          }
         }
        },
        "template": {
         "data": {
          "bar": [
           {
            "error_x": {
             "color": "#2a3f5f"
            },
            "error_y": {
             "color": "#2a3f5f"
            },
            "marker": {
             "line": {
              "color": "#E5ECF6",
              "width": 0.5
             },
             "pattern": {
              "fillmode": "overlay",
              "size": 10,
              "solidity": 0.2
             }
            },
            "type": "bar"
           }
          ],
          "barpolar": [
           {
            "marker": {
             "line": {
              "color": "#E5ECF6",
              "width": 0.5
             },
             "pattern": {
              "fillmode": "overlay",
              "size": 10,
              "solidity": 0.2
             }
            },
            "type": "barpolar"
           }
          ],
          "carpet": [
           {
            "aaxis": {
             "endlinecolor": "#2a3f5f",
             "gridcolor": "white",
             "linecolor": "white",
             "minorgridcolor": "white",
             "startlinecolor": "#2a3f5f"
            },
            "baxis": {
             "endlinecolor": "#2a3f5f",
             "gridcolor": "white",
             "linecolor": "white",
             "minorgridcolor": "white",
             "startlinecolor": "#2a3f5f"
            },
            "type": "carpet"
           }
          ],
          "choropleth": [
           {
            "colorbar": {
             "outlinewidth": 0,
             "ticks": ""
            },
            "type": "choropleth"
           }
          ],
          "contour": [
           {
            "colorbar": {
             "outlinewidth": 0,
             "ticks": ""
            },
            "colorscale": [
             [
              0,
              "#0d0887"
             ],
             [
              0.1111111111111111,
              "#46039f"
             ],
             [
              0.2222222222222222,
              "#7201a8"
             ],
             [
              0.3333333333333333,
              "#9c179e"
             ],
             [
              0.4444444444444444,
              "#bd3786"
             ],
             [
              0.5555555555555556,
              "#d8576b"
             ],
             [
              0.6666666666666666,
              "#ed7953"
             ],
             [
              0.7777777777777778,
              "#fb9f3a"
             ],
             [
              0.8888888888888888,
              "#fdca26"
             ],
             [
              1,
              "#f0f921"
             ]
            ],
            "type": "contour"
           }
          ],
          "contourcarpet": [
           {
            "colorbar": {
             "outlinewidth": 0,
             "ticks": ""
            },
            "type": "contourcarpet"
           }
          ],
          "heatmap": [
           {
            "colorbar": {
             "outlinewidth": 0,
             "ticks": ""
            },
            "colorscale": [
             [
              0,
              "#0d0887"
             ],
             [
              0.1111111111111111,
              "#46039f"
             ],
             [
              0.2222222222222222,
              "#7201a8"
             ],
             [
              0.3333333333333333,
              "#9c179e"
             ],
             [
              0.4444444444444444,
              "#bd3786"
             ],
             [
              0.5555555555555556,
              "#d8576b"
             ],
             [
              0.6666666666666666,
              "#ed7953"
             ],
             [
              0.7777777777777778,
              "#fb9f3a"
             ],
             [
              0.8888888888888888,
              "#fdca26"
             ],
             [
              1,
              "#f0f921"
             ]
            ],
            "type": "heatmap"
           }
          ],
          "heatmapgl": [
           {
            "colorbar": {
             "outlinewidth": 0,
             "ticks": ""
            },
            "colorscale": [
             [
              0,
              "#0d0887"
             ],
             [
              0.1111111111111111,
              "#46039f"
             ],
             [
              0.2222222222222222,
              "#7201a8"
             ],
             [
              0.3333333333333333,
              "#9c179e"
             ],
             [
              0.4444444444444444,
              "#bd3786"
             ],
             [
              0.5555555555555556,
              "#d8576b"
             ],
             [
              0.6666666666666666,
              "#ed7953"
             ],
             [
              0.7777777777777778,
              "#fb9f3a"
             ],
             [
              0.8888888888888888,
              "#fdca26"
             ],
             [
              1,
              "#f0f921"
             ]
            ],
            "type": "heatmapgl"
           }
          ],
          "histogram": [
           {
            "marker": {
             "pattern": {
              "fillmode": "overlay",
              "size": 10,
              "solidity": 0.2
             }
            },
            "type": "histogram"
           }
          ],
          "histogram2d": [
           {
            "colorbar": {
             "outlinewidth": 0,
             "ticks": ""
            },
            "colorscale": [
             [
              0,
              "#0d0887"
             ],
             [
              0.1111111111111111,
              "#46039f"
             ],
             [
              0.2222222222222222,
              "#7201a8"
             ],
             [
              0.3333333333333333,
              "#9c179e"
             ],
             [
              0.4444444444444444,
              "#bd3786"
             ],
             [
              0.5555555555555556,
              "#d8576b"
             ],
             [
              0.6666666666666666,
              "#ed7953"
             ],
             [
              0.7777777777777778,
              "#fb9f3a"
             ],
             [
              0.8888888888888888,
              "#fdca26"
             ],
             [
              1,
              "#f0f921"
             ]
            ],
            "type": "histogram2d"
           }
          ],
          "histogram2dcontour": [
           {
            "colorbar": {
             "outlinewidth": 0,
             "ticks": ""
            },
            "colorscale": [
             [
              0,
              "#0d0887"
             ],
             [
              0.1111111111111111,
              "#46039f"
             ],
             [
              0.2222222222222222,
              "#7201a8"
             ],
             [
              0.3333333333333333,
              "#9c179e"
             ],
             [
              0.4444444444444444,
              "#bd3786"
             ],
             [
              0.5555555555555556,
              "#d8576b"
             ],
             [
              0.6666666666666666,
              "#ed7953"
             ],
             [
              0.7777777777777778,
              "#fb9f3a"
             ],
             [
              0.8888888888888888,
              "#fdca26"
             ],
             [
              1,
              "#f0f921"
             ]
            ],
            "type": "histogram2dcontour"
           }
          ],
          "mesh3d": [
           {
            "colorbar": {
             "outlinewidth": 0,
             "ticks": ""
            },
            "type": "mesh3d"
           }
          ],
          "parcoords": [
           {
            "line": {
             "colorbar": {
              "outlinewidth": 0,
              "ticks": ""
             }
            },
            "type": "parcoords"
           }
          ],
          "pie": [
           {
            "automargin": true,
            "type": "pie"
           }
          ],
          "scatter": [
           {
            "fillpattern": {
             "fillmode": "overlay",
             "size": 10,
             "solidity": 0.2
            },
            "type": "scatter"
           }
          ],
          "scatter3d": [
           {
            "line": {
             "colorbar": {
              "outlinewidth": 0,
              "ticks": ""
             }
            },
            "marker": {
             "colorbar": {
              "outlinewidth": 0,
              "ticks": ""
             }
            },
            "type": "scatter3d"
           }
          ],
          "scattercarpet": [
           {
            "marker": {
             "colorbar": {
              "outlinewidth": 0,
              "ticks": ""
             }
            },
            "type": "scattercarpet"
           }
          ],
          "scattergeo": [
           {
            "marker": {
             "colorbar": {
              "outlinewidth": 0,
              "ticks": ""
             }
            },
            "type": "scattergeo"
           }
          ],
          "scattergl": [
           {
            "marker": {
             "colorbar": {
              "outlinewidth": 0,
              "ticks": ""
             }
            },
            "type": "scattergl"
           }
          ],
          "scattermapbox": [
           {
            "marker": {
             "colorbar": {
              "outlinewidth": 0,
              "ticks": ""
             }
            },
            "type": "scattermapbox"
           }
          ],
          "scatterpolar": [
           {
            "marker": {
             "colorbar": {
              "outlinewidth": 0,
              "ticks": ""
             }
            },
            "type": "scatterpolar"
           }
          ],
          "scatterpolargl": [
           {
            "marker": {
             "colorbar": {
              "outlinewidth": 0,
              "ticks": ""
             }
            },
            "type": "scatterpolargl"
           }
          ],
          "scatterternary": [
           {
            "marker": {
             "colorbar": {
              "outlinewidth": 0,
              "ticks": ""
             }
            },
            "type": "scatterternary"
           }
          ],
          "surface": [
           {
            "colorbar": {
             "outlinewidth": 0,
             "ticks": ""
            },
            "colorscale": [
             [
              0,
              "#0d0887"
             ],
             [
              0.1111111111111111,
              "#46039f"
             ],
             [
              0.2222222222222222,
              "#7201a8"
             ],
             [
              0.3333333333333333,
              "#9c179e"
             ],
             [
              0.4444444444444444,
              "#bd3786"
             ],
             [
              0.5555555555555556,
              "#d8576b"
             ],
             [
              0.6666666666666666,
              "#ed7953"
             ],
             [
              0.7777777777777778,
              "#fb9f3a"
             ],
             [
              0.8888888888888888,
              "#fdca26"
             ],
             [
              1,
              "#f0f921"
             ]
            ],
            "type": "surface"
           }
          ],
          "table": [
           {
            "cells": {
             "fill": {
              "color": "#EBF0F8"
             },
             "line": {
              "color": "white"
             }
            },
            "header": {
             "fill": {
              "color": "#C8D4E3"
             },
             "line": {
              "color": "white"
             }
            },
            "type": "table"
           }
          ]
         },
         "layout": {
          "annotationdefaults": {
           "arrowcolor": "#2a3f5f",
           "arrowhead": 0,
           "arrowwidth": 1
          },
          "autotypenumbers": "strict",
          "coloraxis": {
           "colorbar": {
            "outlinewidth": 0,
            "ticks": ""
           }
          },
          "colorscale": {
           "diverging": [
            [
             0,
             "#8e0152"
            ],
            [
             0.1,
             "#c51b7d"
            ],
            [
             0.2,
             "#de77ae"
            ],
            [
             0.3,
             "#f1b6da"
            ],
            [
             0.4,
             "#fde0ef"
            ],
            [
             0.5,
             "#f7f7f7"
            ],
            [
             0.6,
             "#e6f5d0"
            ],
            [
             0.7,
             "#b8e186"
            ],
            [
             0.8,
             "#7fbc41"
            ],
            [
             0.9,
             "#4d9221"
            ],
            [
             1,
             "#276419"
            ]
           ],
           "sequential": [
            [
             0,
             "#0d0887"
            ],
            [
             0.1111111111111111,
             "#46039f"
            ],
            [
             0.2222222222222222,
             "#7201a8"
            ],
            [
             0.3333333333333333,
             "#9c179e"
            ],
            [
             0.4444444444444444,
             "#bd3786"
            ],
            [
             0.5555555555555556,
             "#d8576b"
            ],
            [
             0.6666666666666666,
             "#ed7953"
            ],
            [
             0.7777777777777778,
             "#fb9f3a"
            ],
            [
             0.8888888888888888,
             "#fdca26"
            ],
            [
             1,
             "#f0f921"
            ]
           ],
           "sequentialminus": [
            [
             0,
             "#0d0887"
            ],
            [
             0.1111111111111111,
             "#46039f"
            ],
            [
             0.2222222222222222,
             "#7201a8"
            ],
            [
             0.3333333333333333,
             "#9c179e"
            ],
            [
             0.4444444444444444,
             "#bd3786"
            ],
            [
             0.5555555555555556,
             "#d8576b"
            ],
            [
             0.6666666666666666,
             "#ed7953"
            ],
            [
             0.7777777777777778,
             "#fb9f3a"
            ],
            [
             0.8888888888888888,
             "#fdca26"
            ],
            [
             1,
             "#f0f921"
            ]
           ]
          },
          "colorway": [
           "#636efa",
           "#EF553B",
           "#00cc96",
           "#ab63fa",
           "#FFA15A",
           "#19d3f3",
           "#FF6692",
           "#B6E880",
           "#FF97FF",
           "#FECB52"
          ],
          "font": {
           "color": "#2a3f5f"
          },
          "geo": {
           "bgcolor": "white",
           "lakecolor": "white",
           "landcolor": "#E5ECF6",
           "showlakes": true,
           "showland": true,
           "subunitcolor": "white"
          },
          "hoverlabel": {
           "align": "left"
          },
          "hovermode": "closest",
          "mapbox": {
           "style": "light"
          },
          "paper_bgcolor": "white",
          "plot_bgcolor": "#E5ECF6",
          "polar": {
           "angularaxis": {
            "gridcolor": "white",
            "linecolor": "white",
            "ticks": ""
           },
           "bgcolor": "#E5ECF6",
           "radialaxis": {
            "gridcolor": "white",
            "linecolor": "white",
            "ticks": ""
           }
          },
          "scene": {
           "xaxis": {
            "backgroundcolor": "#E5ECF6",
            "gridcolor": "white",
            "gridwidth": 2,
            "linecolor": "white",
            "showbackground": true,
            "ticks": "",
            "zerolinecolor": "white"
           },
           "yaxis": {
            "backgroundcolor": "#E5ECF6",
            "gridcolor": "white",
            "gridwidth": 2,
            "linecolor": "white",
            "showbackground": true,
            "ticks": "",
            "zerolinecolor": "white"
           },
           "zaxis": {
            "backgroundcolor": "#E5ECF6",
            "gridcolor": "white",
            "gridwidth": 2,
            "linecolor": "white",
            "showbackground": true,
            "ticks": "",
            "zerolinecolor": "white"
           }
          },
          "shapedefaults": {
           "line": {
            "color": "#2a3f5f"
           }
          },
          "ternary": {
           "aaxis": {
            "gridcolor": "white",
            "linecolor": "white",
            "ticks": ""
           },
           "baxis": {
            "gridcolor": "white",
            "linecolor": "white",
            "ticks": ""
           },
           "bgcolor": "#E5ECF6",
           "caxis": {
            "gridcolor": "white",
            "linecolor": "white",
            "ticks": ""
           }
          },
          "title": {
           "x": 0.05
          },
          "xaxis": {
           "automargin": true,
           "gridcolor": "white",
           "linecolor": "white",
           "ticks": "",
           "title": {
            "standoff": 15
           },
           "zerolinecolor": "white",
           "zerolinewidth": 2
          },
          "yaxis": {
           "automargin": true,
           "gridcolor": "white",
           "linecolor": "white",
           "ticks": "",
           "title": {
            "standoff": 15
           },
           "zerolinecolor": "white",
           "zerolinewidth": 2
          }
         }
        },
        "title": {
         "text": "3D Plot of New Clap Audio Features using t-SNE with Shading"
        }
       }
      }
     },
     "metadata": {},
     "output_type": "display_data"
    }
   ],
   "source": [
    "non_anomalous_clap_audio_features = extract_features_from_files(non_anomalous_clap_audio,0.15)\n",
    "print(len(non_anomalous_clap_audio))\n",
    "\n",
    "visualize_audio(non_anomalous_clap_audio_features, 'New Clap Audio',len(non_anomalous_clap_audio))"
   ]
  },
  {
   "cell_type": "code",
   "execution_count": 215,
   "metadata": {},
   "outputs": [],
   "source": [
    "augmented_echoes_folder_path = '../data/augmentedEchoes'\n",
    "all_augmented_echo_files = os.listdir(augmented_echoes_folder_path)\n",
    "augmented_echoes_abs = [f for f in all_augmented_echo_files if os.path.isfile(os.path.join(augmented_echoes_folder_path, f))]\n",
    "augmented_echoes=[]\n",
    "\n",
    "for c in augmented_echoes_abs:\n",
    "    augmented_echoes.append(augmented_echoes_folder_path+'/'+c)"
   ]
  },
  {
   "cell_type": "code",
   "execution_count": 216,
   "metadata": {},
   "outputs": [],
   "source": [
    "non_anomalous_echo_audio = detect_non_anomalies(echo_audio_features, augmented_echoes, threshold=3, target_duration=ECHO_DURATION,batch_size=100)"
   ]
  },
  {
   "cell_type": "code",
   "execution_count": 217,
   "metadata": {},
   "outputs": [
    {
     "name": "stdout",
     "output_type": "stream",
     "text": [
      "42\n"
     ]
    },
    {
     "data": {
      "application/vnd.plotly.v1+json": {
       "config": {
        "plotlyServerURL": "https://plot.ly"
       },
       "data": [
        {
         "marker": {
          "color": [
           "red",
           "red",
           "red",
           "red",
           "red",
           "red",
           "red",
           "red",
           "red",
           "red",
           "red",
           "red",
           "red",
           "red",
           "red",
           "red",
           "red",
           "red",
           "red",
           "red",
           "red",
           "red",
           "red",
           "red",
           "red",
           "red",
           "red",
           "red",
           "red",
           "red",
           "red",
           "red",
           "red",
           "red",
           "red",
           "red",
           "red",
           "red",
           "red",
           "red",
           "red",
           "red"
          ],
          "opacity": 0.8,
          "size": 8
         },
         "mode": "markers",
         "type": "scatter3d",
         "x": [
          -5.7289862632751465,
          12.789737701416016,
          22.836362838745117,
          -10.270906448364258,
          2.816092014312744,
          6.517280578613281,
          -14.556502342224121,
          2.315514326095581,
          53.327823638916016,
          48.785099029541016,
          36.72294998168945,
          35.65724563598633,
          32.86285400390625,
          56.54228210449219,
          62.286521911621094,
          17.511402130126953,
          9.31749153137207,
          11.47565746307373,
          -10.740250587463379,
          -2.664151191711426,
          1.7724300622940063,
          -5.061077117919922,
          -17.06050682067871,
          -38.65037536621094,
          -34.138675689697266,
          -16.5712947845459,
          -33.30357360839844,
          -50.02869415283203,
          -61.826236724853516,
          -66.80492401123047,
          -50.06233596801758,
          -76.35287475585938,
          -83.86347961425781,
          -70.11724090576172,
          -67.5732421875,
          38.87119674682617,
          45.8191032409668,
          56.3088264465332,
          41.69738006591797,
          33.75723648071289,
          25.205272674560547,
          21.34960174560547
         ],
         "y": [
          -32.58323287963867,
          -48.833126068115234,
          -49.88526153564453,
          -58.10954284667969,
          -47.83186340332031,
          -30.769412994384766,
          -44.84539794921875,
          -65.21202087402344,
          -26.69208335876465,
          11.905624389648438,
          -7.928189277648926,
          -23.251487731933594,
          0.2739156484603882,
          -8.914530754089355,
          -4.591005802154541,
          38.490116119384766,
          61.553321838378906,
          45.67524337768555,
          46.069541931152344,
          50.47249984741211,
          24.85736656188965,
          27.47357940673828,
          -1.515068531036377,
          -21.543142318725586,
          -17.13033103942871,
          -17.067781448364258,
          0.6001313328742981,
          -17.755908966064453,
          -17.810449600219727,
          0.804888904094696,
          3.3071932792663574,
          -21.12543487548828,
          -2.0248067378997803,
          18.682886123657227,
          4.497593402862549,
          43.472496032714844,
          42.429237365722656,
          28.41857147216797,
          18.134475708007812,
          19.310144424438477,
          52.875240325927734,
          29.600500106811523
         ],
         "z": [
          15.117572784423828,
          11.980896949768066,
          -9.880687713623047,
          12.23231029510498,
          -25.439987182617188,
          -7.381681442260742,
          -8.303667068481445,
          -7.677862644195557,
          38.80069351196289,
          44.71228790283203,
          34.7197151184082,
          55.13859939575195,
          58.96142578125,
          57.7385368347168,
          33.28671646118164,
          12.899163246154785,
          18.66084098815918,
          36.48368453979492,
          24.07761001586914,
          0.8658309578895569,
          29.076425552368164,
          6.515414714813232,
          -71.7718276977539,
          -49.516937255859375,
          -71.42700958251953,
          -54.23775863647461,
          -54.22386932373047,
          22.563133239746094,
          -0.00495566800236702,
          27.71617889404297,
          8.236382484436035,
          20.154382705688477,
          7.134615898132324,
          10.709839820861816,
          -10.348865509033203,
          -56.64640426635742,
          -31.043119430541992,
          -48.2789306640625,
          -30.793655395507812,
          -55.18730545043945,
          -38.932586669921875,
          -37.400856018066406
         ]
        }
       ],
       "layout": {
        "scene": {
         "xaxis": {
          "title": {
           "text": "t-SNE 1"
          }
         },
         "yaxis": {
          "title": {
           "text": "t-SNE 2"
          }
         },
         "zaxis": {
          "title": {
           "text": "t-SNE 3"
          }
         }
        },
        "template": {
         "data": {
          "bar": [
           {
            "error_x": {
             "color": "#2a3f5f"
            },
            "error_y": {
             "color": "#2a3f5f"
            },
            "marker": {
             "line": {
              "color": "#E5ECF6",
              "width": 0.5
             },
             "pattern": {
              "fillmode": "overlay",
              "size": 10,
              "solidity": 0.2
             }
            },
            "type": "bar"
           }
          ],
          "barpolar": [
           {
            "marker": {
             "line": {
              "color": "#E5ECF6",
              "width": 0.5
             },
             "pattern": {
              "fillmode": "overlay",
              "size": 10,
              "solidity": 0.2
             }
            },
            "type": "barpolar"
           }
          ],
          "carpet": [
           {
            "aaxis": {
             "endlinecolor": "#2a3f5f",
             "gridcolor": "white",
             "linecolor": "white",
             "minorgridcolor": "white",
             "startlinecolor": "#2a3f5f"
            },
            "baxis": {
             "endlinecolor": "#2a3f5f",
             "gridcolor": "white",
             "linecolor": "white",
             "minorgridcolor": "white",
             "startlinecolor": "#2a3f5f"
            },
            "type": "carpet"
           }
          ],
          "choropleth": [
           {
            "colorbar": {
             "outlinewidth": 0,
             "ticks": ""
            },
            "type": "choropleth"
           }
          ],
          "contour": [
           {
            "colorbar": {
             "outlinewidth": 0,
             "ticks": ""
            },
            "colorscale": [
             [
              0,
              "#0d0887"
             ],
             [
              0.1111111111111111,
              "#46039f"
             ],
             [
              0.2222222222222222,
              "#7201a8"
             ],
             [
              0.3333333333333333,
              "#9c179e"
             ],
             [
              0.4444444444444444,
              "#bd3786"
             ],
             [
              0.5555555555555556,
              "#d8576b"
             ],
             [
              0.6666666666666666,
              "#ed7953"
             ],
             [
              0.7777777777777778,
              "#fb9f3a"
             ],
             [
              0.8888888888888888,
              "#fdca26"
             ],
             [
              1,
              "#f0f921"
             ]
            ],
            "type": "contour"
           }
          ],
          "contourcarpet": [
           {
            "colorbar": {
             "outlinewidth": 0,
             "ticks": ""
            },
            "type": "contourcarpet"
           }
          ],
          "heatmap": [
           {
            "colorbar": {
             "outlinewidth": 0,
             "ticks": ""
            },
            "colorscale": [
             [
              0,
              "#0d0887"
             ],
             [
              0.1111111111111111,
              "#46039f"
             ],
             [
              0.2222222222222222,
              "#7201a8"
             ],
             [
              0.3333333333333333,
              "#9c179e"
             ],
             [
              0.4444444444444444,
              "#bd3786"
             ],
             [
              0.5555555555555556,
              "#d8576b"
             ],
             [
              0.6666666666666666,
              "#ed7953"
             ],
             [
              0.7777777777777778,
              "#fb9f3a"
             ],
             [
              0.8888888888888888,
              "#fdca26"
             ],
             [
              1,
              "#f0f921"
             ]
            ],
            "type": "heatmap"
           }
          ],
          "heatmapgl": [
           {
            "colorbar": {
             "outlinewidth": 0,
             "ticks": ""
            },
            "colorscale": [
             [
              0,
              "#0d0887"
             ],
             [
              0.1111111111111111,
              "#46039f"
             ],
             [
              0.2222222222222222,
              "#7201a8"
             ],
             [
              0.3333333333333333,
              "#9c179e"
             ],
             [
              0.4444444444444444,
              "#bd3786"
             ],
             [
              0.5555555555555556,
              "#d8576b"
             ],
             [
              0.6666666666666666,
              "#ed7953"
             ],
             [
              0.7777777777777778,
              "#fb9f3a"
             ],
             [
              0.8888888888888888,
              "#fdca26"
             ],
             [
              1,
              "#f0f921"
             ]
            ],
            "type": "heatmapgl"
           }
          ],
          "histogram": [
           {
            "marker": {
             "pattern": {
              "fillmode": "overlay",
              "size": 10,
              "solidity": 0.2
             }
            },
            "type": "histogram"
           }
          ],
          "histogram2d": [
           {
            "colorbar": {
             "outlinewidth": 0,
             "ticks": ""
            },
            "colorscale": [
             [
              0,
              "#0d0887"
             ],
             [
              0.1111111111111111,
              "#46039f"
             ],
             [
              0.2222222222222222,
              "#7201a8"
             ],
             [
              0.3333333333333333,
              "#9c179e"
             ],
             [
              0.4444444444444444,
              "#bd3786"
             ],
             [
              0.5555555555555556,
              "#d8576b"
             ],
             [
              0.6666666666666666,
              "#ed7953"
             ],
             [
              0.7777777777777778,
              "#fb9f3a"
             ],
             [
              0.8888888888888888,
              "#fdca26"
             ],
             [
              1,
              "#f0f921"
             ]
            ],
            "type": "histogram2d"
           }
          ],
          "histogram2dcontour": [
           {
            "colorbar": {
             "outlinewidth": 0,
             "ticks": ""
            },
            "colorscale": [
             [
              0,
              "#0d0887"
             ],
             [
              0.1111111111111111,
              "#46039f"
             ],
             [
              0.2222222222222222,
              "#7201a8"
             ],
             [
              0.3333333333333333,
              "#9c179e"
             ],
             [
              0.4444444444444444,
              "#bd3786"
             ],
             [
              0.5555555555555556,
              "#d8576b"
             ],
             [
              0.6666666666666666,
              "#ed7953"
             ],
             [
              0.7777777777777778,
              "#fb9f3a"
             ],
             [
              0.8888888888888888,
              "#fdca26"
             ],
             [
              1,
              "#f0f921"
             ]
            ],
            "type": "histogram2dcontour"
           }
          ],
          "mesh3d": [
           {
            "colorbar": {
             "outlinewidth": 0,
             "ticks": ""
            },
            "type": "mesh3d"
           }
          ],
          "parcoords": [
           {
            "line": {
             "colorbar": {
              "outlinewidth": 0,
              "ticks": ""
             }
            },
            "type": "parcoords"
           }
          ],
          "pie": [
           {
            "automargin": true,
            "type": "pie"
           }
          ],
          "scatter": [
           {
            "fillpattern": {
             "fillmode": "overlay",
             "size": 10,
             "solidity": 0.2
            },
            "type": "scatter"
           }
          ],
          "scatter3d": [
           {
            "line": {
             "colorbar": {
              "outlinewidth": 0,
              "ticks": ""
             }
            },
            "marker": {
             "colorbar": {
              "outlinewidth": 0,
              "ticks": ""
             }
            },
            "type": "scatter3d"
           }
          ],
          "scattercarpet": [
           {
            "marker": {
             "colorbar": {
              "outlinewidth": 0,
              "ticks": ""
             }
            },
            "type": "scattercarpet"
           }
          ],
          "scattergeo": [
           {
            "marker": {
             "colorbar": {
              "outlinewidth": 0,
              "ticks": ""
             }
            },
            "type": "scattergeo"
           }
          ],
          "scattergl": [
           {
            "marker": {
             "colorbar": {
              "outlinewidth": 0,
              "ticks": ""
             }
            },
            "type": "scattergl"
           }
          ],
          "scattermapbox": [
           {
            "marker": {
             "colorbar": {
              "outlinewidth": 0,
              "ticks": ""
             }
            },
            "type": "scattermapbox"
           }
          ],
          "scatterpolar": [
           {
            "marker": {
             "colorbar": {
              "outlinewidth": 0,
              "ticks": ""
             }
            },
            "type": "scatterpolar"
           }
          ],
          "scatterpolargl": [
           {
            "marker": {
             "colorbar": {
              "outlinewidth": 0,
              "ticks": ""
             }
            },
            "type": "scatterpolargl"
           }
          ],
          "scatterternary": [
           {
            "marker": {
             "colorbar": {
              "outlinewidth": 0,
              "ticks": ""
             }
            },
            "type": "scatterternary"
           }
          ],
          "surface": [
           {
            "colorbar": {
             "outlinewidth": 0,
             "ticks": ""
            },
            "colorscale": [
             [
              0,
              "#0d0887"
             ],
             [
              0.1111111111111111,
              "#46039f"
             ],
             [
              0.2222222222222222,
              "#7201a8"
             ],
             [
              0.3333333333333333,
              "#9c179e"
             ],
             [
              0.4444444444444444,
              "#bd3786"
             ],
             [
              0.5555555555555556,
              "#d8576b"
             ],
             [
              0.6666666666666666,
              "#ed7953"
             ],
             [
              0.7777777777777778,
              "#fb9f3a"
             ],
             [
              0.8888888888888888,
              "#fdca26"
             ],
             [
              1,
              "#f0f921"
             ]
            ],
            "type": "surface"
           }
          ],
          "table": [
           {
            "cells": {
             "fill": {
              "color": "#EBF0F8"
             },
             "line": {
              "color": "white"
             }
            },
            "header": {
             "fill": {
              "color": "#C8D4E3"
             },
             "line": {
              "color": "white"
             }
            },
            "type": "table"
           }
          ]
         },
         "layout": {
          "annotationdefaults": {
           "arrowcolor": "#2a3f5f",
           "arrowhead": 0,
           "arrowwidth": 1
          },
          "autotypenumbers": "strict",
          "coloraxis": {
           "colorbar": {
            "outlinewidth": 0,
            "ticks": ""
           }
          },
          "colorscale": {
           "diverging": [
            [
             0,
             "#8e0152"
            ],
            [
             0.1,
             "#c51b7d"
            ],
            [
             0.2,
             "#de77ae"
            ],
            [
             0.3,
             "#f1b6da"
            ],
            [
             0.4,
             "#fde0ef"
            ],
            [
             0.5,
             "#f7f7f7"
            ],
            [
             0.6,
             "#e6f5d0"
            ],
            [
             0.7,
             "#b8e186"
            ],
            [
             0.8,
             "#7fbc41"
            ],
            [
             0.9,
             "#4d9221"
            ],
            [
             1,
             "#276419"
            ]
           ],
           "sequential": [
            [
             0,
             "#0d0887"
            ],
            [
             0.1111111111111111,
             "#46039f"
            ],
            [
             0.2222222222222222,
             "#7201a8"
            ],
            [
             0.3333333333333333,
             "#9c179e"
            ],
            [
             0.4444444444444444,
             "#bd3786"
            ],
            [
             0.5555555555555556,
             "#d8576b"
            ],
            [
             0.6666666666666666,
             "#ed7953"
            ],
            [
             0.7777777777777778,
             "#fb9f3a"
            ],
            [
             0.8888888888888888,
             "#fdca26"
            ],
            [
             1,
             "#f0f921"
            ]
           ],
           "sequentialminus": [
            [
             0,
             "#0d0887"
            ],
            [
             0.1111111111111111,
             "#46039f"
            ],
            [
             0.2222222222222222,
             "#7201a8"
            ],
            [
             0.3333333333333333,
             "#9c179e"
            ],
            [
             0.4444444444444444,
             "#bd3786"
            ],
            [
             0.5555555555555556,
             "#d8576b"
            ],
            [
             0.6666666666666666,
             "#ed7953"
            ],
            [
             0.7777777777777778,
             "#fb9f3a"
            ],
            [
             0.8888888888888888,
             "#fdca26"
            ],
            [
             1,
             "#f0f921"
            ]
           ]
          },
          "colorway": [
           "#636efa",
           "#EF553B",
           "#00cc96",
           "#ab63fa",
           "#FFA15A",
           "#19d3f3",
           "#FF6692",
           "#B6E880",
           "#FF97FF",
           "#FECB52"
          ],
          "font": {
           "color": "#2a3f5f"
          },
          "geo": {
           "bgcolor": "white",
           "lakecolor": "white",
           "landcolor": "#E5ECF6",
           "showlakes": true,
           "showland": true,
           "subunitcolor": "white"
          },
          "hoverlabel": {
           "align": "left"
          },
          "hovermode": "closest",
          "mapbox": {
           "style": "light"
          },
          "paper_bgcolor": "white",
          "plot_bgcolor": "#E5ECF6",
          "polar": {
           "angularaxis": {
            "gridcolor": "white",
            "linecolor": "white",
            "ticks": ""
           },
           "bgcolor": "#E5ECF6",
           "radialaxis": {
            "gridcolor": "white",
            "linecolor": "white",
            "ticks": ""
           }
          },
          "scene": {
           "xaxis": {
            "backgroundcolor": "#E5ECF6",
            "gridcolor": "white",
            "gridwidth": 2,
            "linecolor": "white",
            "showbackground": true,
            "ticks": "",
            "zerolinecolor": "white"
           },
           "yaxis": {
            "backgroundcolor": "#E5ECF6",
            "gridcolor": "white",
            "gridwidth": 2,
            "linecolor": "white",
            "showbackground": true,
            "ticks": "",
            "zerolinecolor": "white"
           },
           "zaxis": {
            "backgroundcolor": "#E5ECF6",
            "gridcolor": "white",
            "gridwidth": 2,
            "linecolor": "white",
            "showbackground": true,
            "ticks": "",
            "zerolinecolor": "white"
           }
          },
          "shapedefaults": {
           "line": {
            "color": "#2a3f5f"
           }
          },
          "ternary": {
           "aaxis": {
            "gridcolor": "white",
            "linecolor": "white",
            "ticks": ""
           },
           "baxis": {
            "gridcolor": "white",
            "linecolor": "white",
            "ticks": ""
           },
           "bgcolor": "#E5ECF6",
           "caxis": {
            "gridcolor": "white",
            "linecolor": "white",
            "ticks": ""
           }
          },
          "title": {
           "x": 0.05
          },
          "xaxis": {
           "automargin": true,
           "gridcolor": "white",
           "linecolor": "white",
           "ticks": "",
           "title": {
            "standoff": 15
           },
           "zerolinecolor": "white",
           "zerolinewidth": 2
          },
          "yaxis": {
           "automargin": true,
           "gridcolor": "white",
           "linecolor": "white",
           "ticks": "",
           "title": {
            "standoff": 15
           },
           "zerolinecolor": "white",
           "zerolinewidth": 2
          }
         }
        },
        "title": {
         "text": "3D Plot of new echo audio Features using t-SNE with Shading"
        }
       }
      }
     },
     "metadata": {},
     "output_type": "display_data"
    }
   ],
   "source": [
    "non_anomalous_echo_audio_features = extract_features_from_files(non_anomalous_echo_audio,0.15)\n",
    "print(len(non_anomalous_echo_audio))\n",
    "visualize_audio(non_anomalous_echo_audio_features, 'new echo audio',len(non_anomalous_echo_audio))"
   ]
  },
  {
   "cell_type": "code",
   "execution_count": 218,
   "metadata": {},
   "outputs": [
    {
     "data": {
      "text/plain": [
       "['../data/augmentedClaps/clap_1_scaled_0.5.wav',\n",
       " '../data/augmentedClaps/clap_1_scaled_0.7.wav',\n",
       " '../data/augmentedClaps/clap_1_scaled_0.9.wav',\n",
       " '../data/augmentedClaps/clap_1_scaled_1.2.wav',\n",
       " '../data/augmentedClaps/clap_2_scaled_0.5.wav',\n",
       " '../data/augmentedClaps/clap_2_scaled_0.7.wav',\n",
       " '../data/augmentedClaps/clap_2_scaled_0.9.wav',\n",
       " '../data/augmentedClaps/clap_2_scaled_1.2.wav',\n",
       " '../data/augmentedClaps/clap_3_scaled_0.2.wav',\n",
       " '../data/augmentedClaps/clap_3_scaled_0.5.wav',\n",
       " '../data/augmentedClaps/clap_3_scaled_0.7.wav',\n",
       " '../data/augmentedClaps/clap_3_scaled_0.9.wav',\n",
       " '../data/augmentedClaps/clap_3_scaled_1.2.wav',\n",
       " '../data/augmentedClaps/clap_3_scaled_1.5.wav',\n",
       " '../data/augmentedClaps/clap_3_scaled_1.7.wav',\n",
       " '../data/augmentedClaps/clap_3_scaled_1.9.wav',\n",
       " '../data/augmentedClaps/clap_4_scaled_0.2.wav',\n",
       " '../data/augmentedClaps/clap_4_scaled_0.5.wav',\n",
       " '../data/augmentedClaps/clap_4_scaled_0.7.wav',\n",
       " '../data/augmentedClaps/clap_4_scaled_0.9.wav',\n",
       " '../data/augmentedClaps/clap_4_scaled_1.2.wav',\n",
       " '../data/augmentedClaps/clap_4_scaled_1.5.wav',\n",
       " '../data/augmentedClaps/clap_5_scaled_0.5.wav',\n",
       " '../data/augmentedClaps/clap_5_scaled_0.7.wav',\n",
       " '../data/augmentedClaps/clap_5_scaled_0.9.wav',\n",
       " '../data/augmentedClaps/clap_5_scaled_1.2.wav',\n",
       " '../data/augmentedClaps/clap_5_scaled_1.5.wav',\n",
       " '../data/augmentedClaps/clap_5_scaled_1.7.wav',\n",
       " '../data/augmentedClaps/clap_5_scaled_1.9.wav',\n",
       " '../data/augmentedClaps/clap_6_scaled_0.7.wav',\n",
       " '../data/augmentedClaps/clap_6_scaled_0.9.wav',\n",
       " '../data/augmentedClaps/clap_6_scaled_1.2.wav',\n",
       " '../data/augmentedClaps/clap_6_scaled_1.5.wav']"
      ]
     },
     "execution_count": 218,
     "metadata": {},
     "output_type": "execute_result"
    }
   ],
   "source": [
    "non_anomalous_clap_audio"
   ]
  },
  {
   "cell_type": "code",
   "execution_count": 219,
   "metadata": {},
   "outputs": [
    {
     "data": {
      "text/plain": [
       "['../data/augmentedEchoes/echo_1_scaled_0.2.wav',\n",
       " '../data/augmentedEchoes/echo_1_scaled_0.5.wav',\n",
       " '../data/augmentedEchoes/echo_1_scaled_0.7.wav',\n",
       " '../data/augmentedEchoes/echo_1_scaled_0.9.wav',\n",
       " '../data/augmentedEchoes/echo_1_scaled_1.2.wav',\n",
       " '../data/augmentedEchoes/echo_1_scaled_1.5.wav',\n",
       " '../data/augmentedEchoes/echo_1_scaled_1.7.wav',\n",
       " '../data/augmentedEchoes/echo_1_scaled_1.9.wav',\n",
       " '../data/augmentedEchoes/echo_2_scaled_0.5.wav',\n",
       " '../data/augmentedEchoes/echo_2_scaled_0.7.wav',\n",
       " '../data/augmentedEchoes/echo_2_scaled_0.9.wav',\n",
       " '../data/augmentedEchoes/echo_2_scaled_1.2.wav',\n",
       " '../data/augmentedEchoes/echo_2_scaled_1.5.wav',\n",
       " '../data/augmentedEchoes/echo_2_scaled_1.7.wav',\n",
       " '../data/augmentedEchoes/echo_2_scaled_1.9.wav',\n",
       " '../data/augmentedEchoes/echo_3_scaled_0.5.wav',\n",
       " '../data/augmentedEchoes/echo_3_scaled_0.7.wav',\n",
       " '../data/augmentedEchoes/echo_3_scaled_0.9.wav',\n",
       " '../data/augmentedEchoes/echo_3_scaled_1.2.wav',\n",
       " '../data/augmentedEchoes/echo_3_scaled_1.5.wav',\n",
       " '../data/augmentedEchoes/echo_3_scaled_1.7.wav',\n",
       " '../data/augmentedEchoes/echo_3_scaled_1.9.wav',\n",
       " '../data/augmentedEchoes/echo_4_scaled_0.2.wav',\n",
       " '../data/augmentedEchoes/echo_4_scaled_0.5.wav',\n",
       " '../data/augmentedEchoes/echo_4_scaled_0.7.wav',\n",
       " '../data/augmentedEchoes/echo_4_scaled_0.9.wav',\n",
       " '../data/augmentedEchoes/echo_4_scaled_1.2.wav',\n",
       " '../data/augmentedEchoes/echo_5_scaled_0.2.wav',\n",
       " '../data/augmentedEchoes/echo_5_scaled_0.5.wav',\n",
       " '../data/augmentedEchoes/echo_5_scaled_0.7.wav',\n",
       " '../data/augmentedEchoes/echo_5_scaled_0.9.wav',\n",
       " '../data/augmentedEchoes/echo_5_scaled_1.2.wav',\n",
       " '../data/augmentedEchoes/echo_5_scaled_1.5.wav',\n",
       " '../data/augmentedEchoes/echo_5_scaled_1.7.wav',\n",
       " '../data/augmentedEchoes/echo_5_scaled_1.9.wav',\n",
       " '../data/augmentedEchoes/echo_6_scaled_0.5.wav',\n",
       " '../data/augmentedEchoes/echo_6_scaled_0.7.wav',\n",
       " '../data/augmentedEchoes/echo_6_scaled_0.9.wav',\n",
       " '../data/augmentedEchoes/echo_6_scaled_1.2.wav',\n",
       " '../data/augmentedEchoes/echo_6_scaled_1.5.wav',\n",
       " '../data/augmentedEchoes/echo_6_scaled_1.7.wav',\n",
       " '../data/augmentedEchoes/echo_6_scaled_1.9.wav']"
      ]
     },
     "execution_count": 219,
     "metadata": {},
     "output_type": "execute_result"
    }
   ],
   "source": [
    "non_anomalous_echo_audio"
   ]
  },
  {
   "cell_type": "code",
   "execution_count": 220,
   "metadata": {},
   "outputs": [
    {
     "name": "stdout",
     "output_type": "stream",
     "text": [
      "New Claps: ['../data/augmentedClaps/clap_3_scaled_0.2.wav', '../data/augmentedClaps/clap_4_scaled_0.2.wav', '../data/augmentedClaps/clap_1_scaled_0.5.wav', '../data/augmentedClaps/clap_2_scaled_0.5.wav', '../data/augmentedClaps/clap_3_scaled_0.5.wav', '../data/augmentedClaps/clap_4_scaled_0.5.wav', '../data/augmentedClaps/clap_5_scaled_0.5.wav', '../data/augmentedClaps/clap_1_scaled_0.7.wav', '../data/augmentedClaps/clap_2_scaled_0.7.wav', '../data/augmentedClaps/clap_3_scaled_0.7.wav', '../data/augmentedClaps/clap_4_scaled_0.7.wav', '../data/augmentedClaps/clap_5_scaled_0.7.wav', '../data/augmentedClaps/clap_6_scaled_0.7.wav', '../data/augmentedClaps/clap_1_scaled_0.9.wav', '../data/augmentedClaps/clap_2_scaled_0.9.wav', '../data/augmentedClaps/clap_3_scaled_0.9.wav', '../data/augmentedClaps/clap_4_scaled_0.9.wav', '../data/augmentedClaps/clap_5_scaled_0.9.wav', '../data/augmentedClaps/clap_6_scaled_0.9.wav', '../data/augmentedClaps/clap_1_scaled_1.2.wav', '../data/augmentedClaps/clap_2_scaled_1.2.wav', '../data/augmentedClaps/clap_3_scaled_1.2.wav', '../data/augmentedClaps/clap_4_scaled_1.2.wav', '../data/augmentedClaps/clap_5_scaled_1.2.wav', '../data/augmentedClaps/clap_6_scaled_1.2.wav', '../data/augmentedClaps/clap_3_scaled_1.5.wav', '../data/augmentedClaps/clap_4_scaled_1.5.wav', '../data/augmentedClaps/clap_5_scaled_1.5.wav', '../data/augmentedClaps/clap_6_scaled_1.5.wav', '../data/augmentedClaps/clap_3_scaled_1.7.wav', '../data/augmentedClaps/clap_5_scaled_1.7.wav', '../data/augmentedClaps/clap_3_scaled_1.9.wav', '../data/augmentedClaps/clap_5_scaled_1.9.wav']\n",
      "New Echoes: ['../data/augmentedEchoes/echo_1_scaled_0.2.wav', '../data/augmentedEchoes/echo_4_scaled_0.2.wav', '../data/augmentedEchoes/echo_5_scaled_0.2.wav', '../data/augmentedEchoes/echo_1_scaled_0.5.wav', '../data/augmentedEchoes/echo_2_scaled_0.5.wav', '../data/augmentedEchoes/echo_3_scaled_0.5.wav', '../data/augmentedEchoes/echo_4_scaled_0.5.wav', '../data/augmentedEchoes/echo_5_scaled_0.5.wav', '../data/augmentedEchoes/echo_6_scaled_0.5.wav', '../data/augmentedEchoes/echo_1_scaled_0.7.wav', '../data/augmentedEchoes/echo_2_scaled_0.7.wav', '../data/augmentedEchoes/echo_3_scaled_0.7.wav', '../data/augmentedEchoes/echo_4_scaled_0.7.wav', '../data/augmentedEchoes/echo_5_scaled_0.7.wav', '../data/augmentedEchoes/echo_6_scaled_0.7.wav', '../data/augmentedEchoes/echo_1_scaled_0.9.wav', '../data/augmentedEchoes/echo_2_scaled_0.9.wav', '../data/augmentedEchoes/echo_3_scaled_0.9.wav', '../data/augmentedEchoes/echo_4_scaled_0.9.wav', '../data/augmentedEchoes/echo_5_scaled_0.9.wav', '../data/augmentedEchoes/echo_6_scaled_0.9.wav', '../data/augmentedEchoes/echo_1_scaled_1.2.wav', '../data/augmentedEchoes/echo_2_scaled_1.2.wav', '../data/augmentedEchoes/echo_3_scaled_1.2.wav', '../data/augmentedEchoes/echo_4_scaled_1.2.wav', '../data/augmentedEchoes/echo_5_scaled_1.2.wav', '../data/augmentedEchoes/echo_6_scaled_1.2.wav', '../data/augmentedEchoes/echo_1_scaled_1.5.wav', '../data/augmentedEchoes/echo_2_scaled_1.5.wav', '../data/augmentedEchoes/echo_3_scaled_1.5.wav', '../data/augmentedEchoes/echo_5_scaled_1.5.wav', '../data/augmentedEchoes/echo_6_scaled_1.5.wav', '../data/augmentedEchoes/echo_1_scaled_1.7.wav', '../data/augmentedEchoes/echo_2_scaled_1.7.wav', '../data/augmentedEchoes/echo_3_scaled_1.7.wav', '../data/augmentedEchoes/echo_5_scaled_1.7.wav', '../data/augmentedEchoes/echo_6_scaled_1.7.wav', '../data/augmentedEchoes/echo_1_scaled_1.9.wav', '../data/augmentedEchoes/echo_2_scaled_1.9.wav', '../data/augmentedEchoes/echo_3_scaled_1.9.wav', '../data/augmentedEchoes/echo_5_scaled_1.9.wav', '../data/augmentedEchoes/echo_6_scaled_1.9.wav']\n"
     ]
    }
   ],
   "source": []
  },
  {
   "cell_type": "code",
   "execution_count": 221,
   "metadata": {},
   "outputs": [
    {
     "name": "stdout",
     "output_type": "stream",
     "text": [
      "Matched Claps: ['../data/augmentedClaps/clap_1_scaled_0.5.wav', '../data/augmentedClaps/clap_1_scaled_0.7.wav', '../data/augmentedClaps/clap_1_scaled_0.9.wav', '../data/augmentedClaps/clap_1_scaled_1.2.wav', '../data/augmentedClaps/clap_2_scaled_0.5.wav', '../data/augmentedClaps/clap_2_scaled_0.7.wav', '../data/augmentedClaps/clap_2_scaled_0.9.wav', '../data/augmentedClaps/clap_2_scaled_1.2.wav', '../data/augmentedClaps/clap_3_scaled_0.5.wav', '../data/augmentedClaps/clap_3_scaled_0.7.wav', '../data/augmentedClaps/clap_3_scaled_0.9.wav', '../data/augmentedClaps/clap_3_scaled_1.2.wav', '../data/augmentedClaps/clap_3_scaled_1.5.wav', '../data/augmentedClaps/clap_3_scaled_1.7.wav', '../data/augmentedClaps/clap_3_scaled_1.9.wav', '../data/augmentedClaps/clap_4_scaled_0.2.wav', '../data/augmentedClaps/clap_4_scaled_0.5.wav', '../data/augmentedClaps/clap_4_scaled_0.7.wav', '../data/augmentedClaps/clap_4_scaled_0.9.wav', '../data/augmentedClaps/clap_4_scaled_1.2.wav', '../data/augmentedClaps/clap_5_scaled_0.5.wav', '../data/augmentedClaps/clap_5_scaled_0.7.wav', '../data/augmentedClaps/clap_5_scaled_0.9.wav', '../data/augmentedClaps/clap_5_scaled_1.2.wav', '../data/augmentedClaps/clap_5_scaled_1.5.wav', '../data/augmentedClaps/clap_5_scaled_1.7.wav', '../data/augmentedClaps/clap_5_scaled_1.9.wav', '../data/augmentedClaps/clap_6_scaled_0.7.wav', '../data/augmentedClaps/clap_6_scaled_0.9.wav', '../data/augmentedClaps/clap_6_scaled_1.2.wav', '../data/augmentedClaps/clap_6_scaled_1.5.wav']\n",
      "Matched Echoes: ['../data/augmentedEchoes/echo_1_scaled_0.5.wav', '../data/augmentedEchoes/echo_1_scaled_0.7.wav', '../data/augmentedEchoes/echo_1_scaled_0.9.wav', '../data/augmentedEchoes/echo_1_scaled_1.2.wav', '../data/augmentedEchoes/echo_2_scaled_0.5.wav', '../data/augmentedEchoes/echo_2_scaled_0.7.wav', '../data/augmentedEchoes/echo_2_scaled_0.9.wav', '../data/augmentedEchoes/echo_2_scaled_1.2.wav', '../data/augmentedEchoes/echo_3_scaled_0.5.wav', '../data/augmentedEchoes/echo_3_scaled_0.7.wav', '../data/augmentedEchoes/echo_3_scaled_0.9.wav', '../data/augmentedEchoes/echo_3_scaled_1.2.wav', '../data/augmentedEchoes/echo_3_scaled_1.5.wav', '../data/augmentedEchoes/echo_3_scaled_1.7.wav', '../data/augmentedEchoes/echo_3_scaled_1.9.wav', '../data/augmentedEchoes/echo_4_scaled_0.2.wav', '../data/augmentedEchoes/echo_4_scaled_0.5.wav', '../data/augmentedEchoes/echo_4_scaled_0.7.wav', '../data/augmentedEchoes/echo_4_scaled_0.9.wav', '../data/augmentedEchoes/echo_4_scaled_1.2.wav', '../data/augmentedEchoes/echo_5_scaled_0.5.wav', '../data/augmentedEchoes/echo_5_scaled_0.7.wav', '../data/augmentedEchoes/echo_5_scaled_0.9.wav', '../data/augmentedEchoes/echo_5_scaled_1.2.wav', '../data/augmentedEchoes/echo_5_scaled_1.5.wav', '../data/augmentedEchoes/echo_5_scaled_1.7.wav', '../data/augmentedEchoes/echo_5_scaled_1.9.wav', '../data/augmentedEchoes/echo_6_scaled_0.7.wav', '../data/augmentedEchoes/echo_6_scaled_0.9.wav', '../data/augmentedEchoes/echo_6_scaled_1.2.wav', '../data/augmentedEchoes/echo_6_scaled_1.5.wav']\n"
     ]
    }
   ],
   "source": [
    "# Initialize empty lists for storing the matched files\n",
    "new_claps = []\n",
    "new_echoes = []\n",
    "\n",
    "# Loop through the claps and echoes\n",
    "for i in range(1, 7):  # Assuming we have 6 different clap/echo categories\n",
    "    for scale_factor in [0.2, 0.5, 0.7, 0.9, 1.2, 1.5, 1.7, 1.9]:  # Scale factors\n",
    "        # Generate corresponding file paths for clap and echo based on the pattern\n",
    "        clap_file = f'../data/augmentedClaps/clap_{i}_scaled_{scale_factor}.wav'\n",
    "        echo_file = f'../data/augmentedEchoes/echo_{i}_scaled_{scale_factor}.wav'\n",
    "        \n",
    "        # If both clap and echo are in the non-anomalous lists, add them to the respective arrays\n",
    "        if clap_file in non_anomalous_clap_audio and echo_file in non_anomalous_echo_audio:\n",
    "            new_claps.append(clap_file)\n",
    "            new_echoes.append(echo_file)\n",
    "\n",
    "# Check the results\n",
    "print(\"Matched Claps:\", new_claps)\n",
    "print(\"Matched Echoes:\", new_echoes)\n"
   ]
  },
  {
   "cell_type": "code",
   "execution_count": 224,
   "metadata": {},
   "outputs": [
    {
     "name": "stdout",
     "output_type": "stream",
     "text": [
      "Claps and Echoes have been copied to '../data/new_claps' and '../data/new_echoes' respectively.\n"
     ]
    }
   ],
   "source": [
    "# Define the paths for the new folders\n",
    "claps_dir = '../data/new_claps'\n",
    "echoes_dir = '../data/new_echoes'\n",
    "\n",
    "# Create the new directories if they don't exist\n",
    "os.makedirs(claps_dir, exist_ok=True)\n",
    "os.makedirs(echoes_dir, exist_ok=True)\n",
    "\n",
    "# Function to copy files to the new directories\n",
    "def copy_files(file_list, destination_dir):\n",
    "    for file in file_list:\n",
    "        # Copy each file to the destination directory\n",
    "        shutil.copy(file, os.path.join(destination_dir, os.path.basename(file)))\n",
    "\n",
    "# Copy the matched claps and echoes\n",
    "copy_files(new_claps, claps_dir)\n",
    "copy_files(new_echoes, echoes_dir)\n",
    "\n",
    "print(f\"Claps and Echoes have been copied to '{claps_dir}' and '{echoes_dir}' respectively.\")\n"
   ]
  }
 ],
 "metadata": {
  "kernelspec": {
   "display_name": "base",
   "language": "python",
   "name": "python3"
  },
  "language_info": {
   "codemirror_mode": {
    "name": "ipython",
    "version": 3
   },
   "file_extension": ".py",
   "mimetype": "text/x-python",
   "name": "python",
   "nbconvert_exporter": "python",
   "pygments_lexer": "ipython3",
   "version": "3.12.7"
  }
 },
 "nbformat": 4,
 "nbformat_minor": 2
}
